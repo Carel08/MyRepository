{
 "cells": [
  {
   "cell_type": "markdown",
   "metadata": {},
   "source": [
    "# Creating a barrier book in python"
   ]
  },
  {
   "cell_type": "code",
   "execution_count": 5,
   "metadata": {
    "collapsed": true
   },
   "outputs": [],
   "source": [
    "import math\n",
    "from scipy.stats.distributions import norm\n",
    "import matplotlib.pyplot as plt"
   ]
  },
  {
   "cell_type": "code",
   "execution_count": 6,
   "metadata": {},
   "outputs": [
    {
     "name": "stdout",
     "output_type": "stream",
     "text": [
      "Do you want to price a put(p) or a call(c) option? \n",
      "This input is incorrect. Please enter p for put or c for call\n",
      "Do you want to price a put(p) or a call(c) option? c\n"
     ]
    }
   ],
   "source": [
    "error = True\n",
    "message = \"This input is incorrect. Please enter p for put or c for call\"\n",
    "while error:\n",
    "    error = False\n",
    "    putCall = raw_input(\"Do you want to price a put(p) or a call(c) option? \" )\n",
    "    if putCall == 'p':\n",
    "        phi = -1\n",
    "    elif putCall == 'c':\n",
    "        phi = 1\n",
    "    else:\n",
    "        print message\n",
    "        error = True"
   ]
  },
  {
   "cell_type": "code",
   "execution_count": 7,
   "metadata": {},
   "outputs": [
    {
     "name": "stdout",
     "output_type": "stream",
     "text": [
      "Please enter the current Stock price- 27\n",
      "Please enter the strike price of the option- 30\n",
      "Please enter the time to maturity(in days)- 268\n"
     ]
    }
   ],
   "source": [
    "S =input(\"Please enter the current Stock price- \")\n",
    "X = input(\"Please enter the strike price of the option- \")\n",
    "T= input(\"Please enter the time to maturity(in days)- \")\n",
    "T = float(T)/365"
   ]
  },
  {
   "cell_type": "code",
   "execution_count": 8,
   "metadata": {},
   "outputs": [
    {
     "name": "stdout",
     "output_type": "stream",
     "text": [
      "Please enter the volatility of the underlying asset- 0.4\n",
      "Please enter the carry rate- 0.012\n",
      "Please enter the yearly interest rate- 6.72\n"
     ]
    }
   ],
   "source": [
    "sigma = input(\"Please enter the volatility of the underlying asset- \")\n",
    "b = input(\"Please enter the carry rate- \")\n",
    "r = input(\"Please enter the yearly interest rate- \")\n",
    "r = r"
   ]
  },
  {
   "cell_type": "code",
   "execution_count": 9,
   "metadata": {},
   "outputs": [
    {
     "name": "stdout",
     "output_type": "stream",
     "text": [
      "Please enter the barrier height- 28\n"
     ]
    }
   ],
   "source": [
    "H = input(\"Please enter the barrier height- \" )"
   ]
  },
  {
   "cell_type": "code",
   "execution_count": 10,
   "metadata": {},
   "outputs": [
    {
     "name": "stdout",
     "output_type": "stream",
     "text": [
      "How high is the rebate you receive if you get knocked out?- 0\n"
     ]
    }
   ],
   "source": [
    "K = input(\"How high is the rebate you receive if you get knocked out?- \")"
   ]
  },
  {
   "cell_type": "code",
   "execution_count": 11,
   "metadata": {},
   "outputs": [
    {
     "name": "stdout",
     "output_type": "stream",
     "text": [
      "Please type whether it is an out or an in barrier.(out/in)- in\n"
     ]
    }
   ],
   "source": [
    "message3 =\"Please enter out or in.\"\n",
    "error3 = True\n",
    "while error3:\n",
    "    inOut = raw_input(\"Please type whether it is an out or an in barrier.(out/in)- \")\n",
    "    if inOut == 'out'or inOut == 'in':\n",
    "        error3 = False\n",
    "    else:\n",
    "        print message3"
   ]
  },
  {
   "cell_type": "code",
   "execution_count": 12,
   "metadata": {
    "collapsed": true
   },
   "outputs": [],
   "source": [
    "X = float(X)\n",
    "b = float(b)\n",
    "H = float(H)\n",
    "K = float(K)\n",
    "S = float(S)"
   ]
  },
  {
   "cell_type": "code",
   "execution_count": 13,
   "metadata": {
    "collapsed": true
   },
   "outputs": [],
   "source": [
    "####Function for evaluating the option price given the underlying price"
   ]
  },
  {
   "cell_type": "code",
   "execution_count": 14,
   "metadata": {
    "collapsed": true
   },
   "outputs": [],
   "source": [
    "def price_option(S):\n",
    "    if putCall == 'c':\n",
    "        phi = 1\n",
    "    else:\n",
    "        phi = -1\n",
    "    if S>H:\n",
    "        eta = 1\n",
    "    else:\n",
    "        eta = -1\n",
    "    sigma2 = sigma**2\n",
    "    mu = (b-(sigma2 / 2))/sigma2\n",
    "    landa = math.sqrt(mu**2.0 + (2*r)/(sigma2))\n",
    "    x1 = (math.log(S/X)) / (sigma*math.sqrt(T)) + (1+mu)*sigma*math.sqrt(T)\n",
    "    x2 = (math.log(S/H)) / (sigma*math.sqrt(T)) + (1+mu)*sigma*math.sqrt(T)\n",
    "    y1 = math.log((H**2)/(S*X)) / (sigma*math.sqrt(T)) + (1+mu)*sigma*math.sqrt(T)\n",
    "    y2 = math.log(H/S) / (sigma*math.sqrt(T)) + (1+mu)*sigma*math.sqrt(T)\n",
    "    z = math.log(H/S) / (sigma*math.sqrt(T)) + landa*sigma*math.sqrt(T)\n",
    "    n1=phi*x1-phi*sigma*math.sqrt(T)\n",
    "    A= phi * S*math.exp(b-r)*norm.cdf(phi*x1,0,1) - phi*X*math.exp(-r*T)*norm.cdf(n1,0,1)\n",
    "    n2=phi*x2-phi*sigma*math.sqrt(T)\n",
    "    B= phi * S*math.exp(b-r)*norm.cdf(phi*x2,0,1) - phi*X*math.exp(-r*T)*norm.cdf(n2,0,1)\n",
    "    n3=eta*y1\n",
    "    n4=eta*y1-eta*sigma*math.sqrt(T)\n",
    "    C= phi * S*math.exp(b-r)*(H/S)**(2*(mu+1))*norm.cdf(n3,0,1) - phi*X*math.exp(-r*T)*(H/S)\n",
    "    n5=eta*y2\n",
    "    n6=eta*y2-eta*sigma*math.sqrt(T)\n",
    "    D= phi * S*math.exp(b-r)*(H/S)**(2*(mu+1))*norm.cdf(n5,0,1) - phi*X*math.exp(-r*T)*(H/S)\n",
    "    n9 = norm.cdf(eta*x2 - eta*sigma*math.sqrt(T),0,1)\n",
    "    n10 = norm.cdf(eta*y2 - eta*sigma*math.sqrt(T),0,1)\n",
    "    E = K*math.exp(-r*T)*(n9 - (H/S)**(2*mu)*n10)\n",
    "    n11 = norm.cdf(z*eta, 0,1)\n",
    "    n12 = norm.cdf(eta*z-2*eta*landa*sigma*math.sqrt(T),0,1)\n",
    "    F = K*math.exp(-r*T)*((H/S)**(mu+landa)*(n11)-(H/S)**(mu-landa)*n12)\n",
    "    \n",
    "    if putCall == 'p':\n",
    "        if X < H:\n",
    "            if S > H:\n",
    "                if inOut == 'in':\n",
    "                    price = A + E\n",
    "                elif inOut == 'out':\n",
    "                    price = F\n",
    "            else:\n",
    "                if inOut == 'in':\n",
    "                    price = C + E\n",
    "                elif inOut == 'out':\n",
    "                    price = A - C + F\n",
    "        else:\n",
    "            if S > H:\n",
    "                if inOut == 'in':\n",
    "                    price = B - C + D + E\n",
    "                elif inOut == 'out':\n",
    "                    price = A - B + C - D + F\n",
    "            else:\n",
    "                if inOut == 'in':\n",
    "                    price = A - B + D + E\n",
    "                elif inOut == 'out':\n",
    "                    price = B - D + F\n",
    "    else:\n",
    "        if X < H:\n",
    "            if S > H:\n",
    "                if inOut == 'in':\n",
    "                    price = A - B + D + E\n",
    "                elif inOut == 'out':\n",
    "                    price = B - D + F\n",
    "            else:\n",
    "                if inOut == 'in':\n",
    "                    price = B - C + D + E\n",
    "                elif inOut == 'out':\n",
    "                    price = A - B + C - D + F\n",
    "        else:\n",
    "            if S > H:\n",
    "                if inOut == 'in':\n",
    "                    price = C + E\n",
    "                elif inOut == 'out':\n",
    "                    price = A - C + F\n",
    "            else:\n",
    "                if inOut == 'in':\n",
    "                    price = A + E\n",
    "                elif inOut == 'out':\n",
    "                    price = F\n",
    "    if price < 0:\n",
    "        price = 0\n",
    "    return price"
   ]
  },
  {
   "cell_type": "code",
   "execution_count": null,
   "metadata": {
    "collapsed": true
   },
   "outputs": [],
   "source": []
  },
  {
   "cell_type": "code",
   "execution_count": 15,
   "metadata": {},
   "outputs": [
    {
     "name": "stdout",
     "output_type": "stream",
     "text": [
      "0\n",
      "[2, 3, 4, 5, 6, 7, 8, 9, 10, 11, 12, 13, 14, 15, 16, 17, 18, 19, 20, 21, 22, 23, 24, 25, 26, 27, 28, 29, 30, 31, 32, 33, 34, 35, 36, 37, 38, 39, 40, 41, 42, 43, 44, 45, 46, 47, 48, 49, 50, 51, 52, 53, 54, 55, 56, 57, 58, 59, 60, 61, 62, 63, 64, 65, 66, 67, 68, 69, 70, 71, 72, 73, 74, 75, 76]\n",
      "[0, 0, 0, 0, 0, 0, 0, 0, 0, 0, 0, 0, 0, 0, 0, 0, 0, 0, 0, 0, 0, 0, 0, 0, 0, 0, 0, 0, 0, 0, 0, 0, 0, 0, 0, 0, 0, 0, 0, 0, 0, 0, 0, 0, 0, 0, 0, 0, 0, 0, 0, 0, 0, 0, 0, 0, 0, 0, 0, 0, 0, 0, 0, 0, 0, 0, 0, 0, 0, 0, 0, 0, 0, 0, 0]\n"
     ]
    }
   ],
   "source": [
    "##Underlying price\n",
    "print price_option(S)\n",
    "S=int(S)\n",
    "u_price = range(S-25, S+50)\n",
    "##Option price\n",
    "op_price = []\n",
    "for i in range(len(u_price)):\n",
    "    op_price.append(price_option(u_price[i]))\n",
    "print u_price\n",
    "print op_price"
   ]
  },
  {
   "cell_type": "code",
   "execution_count": 16,
   "metadata": {},
   "outputs": [
    {
     "data": {
      "image/png": "[encoded data removed]",
      "text/plain": [
       "<matplotlib.figure.Figure at 0x7ff176adef10>"
      ]
     },
     "metadata": {},
     "output_type": "display_data"
    }
   ],
   "source": [
    "#Plotting the underlying price vs. the option price\n",
    "plt.plot(u_price, op_price, color='red')\n",
    "plt.xlabel('Underlying price', fontsize=14)\n",
    "plt.ylabel('Option price',fontsize=14)\n",
    "plt.title('PUT Out Barrier X < H', fontsize=20)\n",
    "plt.show()"
   ]
  },
  {
   "cell_type": "code",
   "execution_count": null,
   "metadata": {
    "collapsed": true
   },
   "outputs": [],
   "source": []
  },
  {
   "cell_type": "code",
   "execution_count": 17,
   "metadata": {
    "collapsed": true
   },
   "outputs": [],
   "source": [
    "import QuantLib as ql # version 1.5\n",
    "import matplotlib.pyplot as plt\n",
    "%matplotlib inline"
   ]
  },
  {
   "cell_type": "code",
   "execution_count": 18,
   "metadata": {
    "collapsed": true
   },
   "outputs": [],
   "source": [
    "# option data\n",
    "maturity_date = ql.Date(15, 1, 2016)\n",
    "spot_price = 127.62\n",
    "strike_price = 130\n",
    "volatility = 0.20 # the historical vols for a year\n",
    "dividend_rate =  0.0163\n",
    "option_type = ql.Option.Call\n",
    "\n",
    "risk_free_rate = 0.001\n",
    "day_count = ql.Actual365Fixed()\n",
    "calendar = ql.UnitedStates()\n",
    "\n",
    "calculation_date = ql.Date(8, 5, 2015)\n",
    "ql.Settings.instance().evaluationDate = calculation_date"
   ]
  },
  {
   "cell_type": "code",
   "execution_count": 19,
   "metadata": {
    "collapsed": true
   },
   "outputs": [],
   "source": [
    "# construct the European Option\n",
    "payoff = ql.PlainVanillaPayoff(option_type, strike_price)\n",
    "exercise = ql.EuropeanExercise(maturity_date)\n",
    "european_option = ql.VanillaOption(payoff, exercise)"
   ]
  },
  {
   "cell_type": "code",
   "execution_count": 93,
   "metadata": {},
   "outputs": [
    {
     "name": "stdout",
     "output_type": "stream",
     "text": [
      "Enter Start date in the format m/d/y: 05/04/2015\n"
     ]
    }
   ],
   "source": [
    "from datetime import datetime\n",
    "\n",
    "d= datetime.strptime(raw_input('Enter Start date in the format m/d/y: '), '%m/%d/%Y')\n",
    "quantDate = ql.Date(d.day, d.month, d.year)"
   ]
  },
  {
   "cell_type": "code",
   "execution_count": 94,
   "metadata": {},
   "outputs": [
    {
     "data": {
      "text/plain": [
       "Date(4,5,2015)"
      ]
     },
     "execution_count": 94,
     "metadata": {},
     "output_type": "execute_result"
    }
   ],
   "source": [
    "quantDate"
   ]
  },
  {
   "cell_type": "code",
   "execution_count": 91,
   "metadata": {},
   "outputs": [],
   "source": [
    "d = datetime.strptime('2011-03-07','%Y-%m-%d')\n",
    "quantDate = ql.Date(d.day, d.month, d.year)"
   ]
  },
  {
   "cell_type": "code",
   "execution_count": 92,
   "metadata": {},
   "outputs": [
    {
     "data": {
      "text/plain": [
       "Date(7,3,2011)"
      ]
     },
     "execution_count": 92,
     "metadata": {},
     "output_type": "execute_result"
    }
   ],
   "source": [
    "quantDate"
   ]
  },
  {
   "cell_type": "code",
   "execution_count": 95,
   "metadata": {},
   "outputs": [],
   "source": [
    "spot_handle = ql.QuoteHandle(ql.SimpleQuote(spot_price))\n",
    "flat_ts = ql.YieldTermStructureHandle(ql.FlatForward(quantDate, risk_free_rate, day_count))\n",
    "dividend_yield = ql.YieldTermStructureHandle(ql.FlatForward(calculation_date, dividend_rate, day_count))\n",
    "flat_vol_ts = ql.BlackVolTermStructureHandle(ql.BlackConstantVol(calculation_date, calendar, volatility, day_count))\n",
    "bsm_process = ql.BlackProcess(spot_handle,flat_ts,flat_vol_ts)"
   ]
  },
  {
   "cell_type": "code",
   "execution_count": 21,
   "metadata": {},
   "outputs": [
    {
     "name": "stdout",
     "output_type": "stream",
     "text": [
      "The theoretical price is  7.38734748882\n"
     ]
    }
   ],
   "source": [
    "european_option.setPricingEngine(ql.AnalyticEuropeanEngine(bsm_process))\n",
    "bs_price = european_option.NPV()\n",
    "print \"The theoretical price is \", bs_price"
   ]
  },
  {
   "cell_type": "code",
   "execution_count": 22,
   "metadata": {
    "collapsed": true
   },
   "outputs": [],
   "source": [
    "def binomial_price(bsm_process, steps):\n",
    "    binomial_engine = ql.BinomialVanillaEngine(bsm_process, \"crr\", steps)\n",
    "    european_option.setPricingEngine(binomial_engine)\n",
    "    return european_option.NPV()\n",
    "\n",
    "steps = range(2, 100, 1)\n",
    "prices = [binomial_price(bsm_process, step) for step in steps]"
   ]
  },
  {
   "cell_type": "code",
   "execution_count": 23,
   "metadata": {},
   "outputs": [
    {
     "data": {
      "text/plain": [
       "<matplotlib.legend.Legend at 0x7ff16eb71190>"
      ]
     },
     "execution_count": 23,
     "metadata": {},
     "output_type": "execute_result"
    },
    {
     "data": {
      "image/png": "[encoded data removed]",
      "text/plain": [
       "<matplotlib.figure.Figure at 0x7ff176ade8d0>"
      ]
     },
     "metadata": {},
     "output_type": "display_data"
    }
   ],
   "source": [
    "plt.plot(steps, prices, label=\"Binomial Tree Price\", lw=2, alpha=0.6)\n",
    "plt.plot([0,100],[bs_price, bs_price], \"r--\", label=\"BSM Price\", lw=2, alpha=0.6)\n",
    "plt.xlabel(\"Steps\")\n",
    "plt.ylabel(\"Price\")\n",
    "plt.title(\"Binomial Tree Price For Varying Steps\")\n",
    "plt.legend()"
   ]
  },
  {
   "cell_type": "markdown",
   "metadata": {},
   "source": [
    "# Monte carlo"
   ]
  },
  {
   "cell_type": "code",
   "execution_count": 24,
   "metadata": {
    "collapsed": true
   },
   "outputs": [],
   "source": [
    "engine = ql.MCEuropeanEngine(bsm_process, \"PseudoRandom\",timeSteps=20,requiredSamples=250000)\n",
    "european_option.setPricingEngine(engine)"
   ]
  },
  {
   "cell_type": "code",
   "execution_count": 25,
   "metadata": {},
   "outputs": [
    {
     "data": {
      "text/plain": [
       "7.368223076575286"
      ]
     },
     "execution_count": 25,
     "metadata": {},
     "output_type": "execute_result"
    }
   ],
   "source": [
    "european_option.NPV()"
   ]
  },
  {
   "cell_type": "code",
   "execution_count": 26,
   "metadata": {},
   "outputs": [
    {
     "ename": "RuntimeError",
     "evalue": "delta not provided",
     "output_type": "error",
     "traceback": [
      "\u001b[0;31m---------------------------------------------------------------------------\u001b[0m",
      "\u001b[0;31mRuntimeError\u001b[0m                              Traceback (most recent call last)",
      "\u001b[0;32m<ipython-input-26-2d3f6b5b7424>\u001b[0m in \u001b[0;36m<module>\u001b[0;34m()\u001b[0m\n\u001b[0;32m----> 1\u001b[0;31m \u001b[0;32mprint\u001b[0m \u001b[0meuropean_option\u001b[0m\u001b[0;34m.\u001b[0m\u001b[0mdelta\u001b[0m\u001b[0;34m(\u001b[0m\u001b[0;34m)\u001b[0m\u001b[0;34m\u001b[0m\u001b[0m\n\u001b[0m\u001b[1;32m      2\u001b[0m \u001b[0;32mprint\u001b[0m \u001b[0meuropean_option\u001b[0m\u001b[0;34m.\u001b[0m\u001b[0mgamma\u001b[0m\u001b[0;34m(\u001b[0m\u001b[0;34m)\u001b[0m\u001b[0;34m\u001b[0m\u001b[0m\n\u001b[1;32m      3\u001b[0m \u001b[0;32mprint\u001b[0m \u001b[0meuropean_option\u001b[0m\u001b[0;34m.\u001b[0m\u001b[0mvega\u001b[0m\u001b[0;34m(\u001b[0m\u001b[0;34m)\u001b[0m\u001b[0;34m\u001b[0m\u001b[0m\n",
      "\u001b[0;32m/home/carel/anaconda2/lib/python2.7/site-packages/QuantLib/QuantLib.pyc\u001b[0m in \u001b[0;36mdelta\u001b[0;34m(self)\u001b[0m\n\u001b[1;32m  10578\u001b[0m \u001b[0;34m\u001b[0m\u001b[0m\n\u001b[1;32m  10579\u001b[0m     \u001b[0;32mdef\u001b[0m \u001b[0mdelta\u001b[0m\u001b[0;34m(\u001b[0m\u001b[0mself\u001b[0m\u001b[0;34m)\u001b[0m\u001b[0;34m:\u001b[0m\u001b[0;34m\u001b[0m\u001b[0m\n\u001b[0;32m> 10580\u001b[0;31m         \u001b[0;32mreturn\u001b[0m \u001b[0m_QuantLib\u001b[0m\u001b[0;34m.\u001b[0m\u001b[0mVanillaOption_delta\u001b[0m\u001b[0;34m(\u001b[0m\u001b[0mself\u001b[0m\u001b[0;34m)\u001b[0m\u001b[0;34m\u001b[0m\u001b[0m\n\u001b[0m\u001b[1;32m  10581\u001b[0m \u001b[0;34m\u001b[0m\u001b[0m\n\u001b[1;32m  10582\u001b[0m     \u001b[0;32mdef\u001b[0m \u001b[0mgamma\u001b[0m\u001b[0;34m(\u001b[0m\u001b[0mself\u001b[0m\u001b[0;34m)\u001b[0m\u001b[0;34m:\u001b[0m\u001b[0;34m\u001b[0m\u001b[0m\n",
      "\u001b[0;31mRuntimeError\u001b[0m: delta not provided"
     ]
    }
   ],
   "source": [
    "print european_option.delta()\n",
    "print european_option.gamma()\n",
    "print european_option.vega()"
   ]
  },
  {
   "cell_type": "markdown",
   "metadata": {},
   "source": [
    "# Finite Difference"
   ]
  },
  {
   "cell_type": "code",
   "execution_count": 27,
   "metadata": {
    "collapsed": true
   },
   "outputs": [],
   "source": [
    "engine = ql.FDEuropeanEngine(bsm_process,801,801)\n",
    "european_option.setPricingEngine(engine)"
   ]
  },
  {
   "cell_type": "code",
   "execution_count": 28,
   "metadata": {},
   "outputs": [
    {
     "data": {
      "text/plain": [
       "7.387251162785308"
      ]
     },
     "execution_count": 28,
     "metadata": {},
     "output_type": "execute_result"
    }
   ],
   "source": [
    "european_option.NPV()"
   ]
  },
  {
   "cell_type": "code",
   "execution_count": 29,
   "metadata": {},
   "outputs": [
    {
     "name": "stdout",
     "output_type": "stream",
     "text": [
      "0.488456890685\n",
      "0.0187906031794\n"
     ]
    }
   ],
   "source": [
    "print european_option.delta()\n",
    "print european_option.gamma()"
   ]
  },
  {
   "cell_type": "markdown",
   "metadata": {},
   "source": [
    "# Creating a barrier"
   ]
  },
  {
   "cell_type": "code",
   "execution_count": 51,
   "metadata": {},
   "outputs": [],
   "source": [
    "today= ql.Date(29, 5, 2006)\n",
    "ql.Settings.instance().evaluationDate = today"
   ]
  },
  {
   "cell_type": "code",
   "execution_count": 31,
   "metadata": {
    "collapsed": true
   },
   "outputs": [],
   "source": [
    "#the option to replicate\n",
    "barrierType = ql.Barrier.DownOut\n",
    "barrier = 70.0\n",
    "rebate = 0.0\n",
    "option_type1 = ql.Option.Put\n",
    "underlyingValue = 100.0"
   ]
  },
  {
   "cell_type": "code",
   "execution_count": 32,
   "metadata": {
    "collapsed": true
   },
   "outputs": [],
   "source": [
    "strike = 100.0"
   ]
  },
  {
   "cell_type": "code",
   "execution_count": 33,
   "metadata": {
    "collapsed": true
   },
   "outputs": [],
   "source": [
    "spot_handle = ql.QuoteHandle(ql.SimpleQuote(underlyingValue))\n",
    "risk_free_rate = ql.QuoteHandle(ql.SimpleQuote(0.04))\n",
    "vol = ql.QuoteHandle(ql.SimpleQuote(0.2))"
   ]
  },
  {
   "cell_type": "code",
   "execution_count": 34,
   "metadata": {
    "collapsed": true
   },
   "outputs": [],
   "source": [
    "maturity = today + 1*ql.Years"
   ]
  },
  {
   "cell_type": "code",
   "execution_count": 35,
   "metadata": {
    "collapsed": true
   },
   "outputs": [],
   "source": [
    "# bootstrap the yield/vol curves\n",
    "day_count = ql.Actual365Fixed()\n",
    "flat_ts = ql.YieldTermStructureHandle(ql.FlatForward(0, ql.NullCalendar(),risk_free_rate , day_count))\n",
    "flat_vol_ts = ql.BlackVolTermStructureHandle(ql.BlackConstantVol(0, ql.NullCalendar(), vol, day_count))"
   ]
  },
  {
   "cell_type": "code",
   "execution_count": 36,
   "metadata": {
    "collapsed": true
   },
   "outputs": [],
   "source": [
    "#instantiate the option\n",
    "payoff1 = ql.PlainVanillaPayoff(option_type1, strike)\n",
    "exercise1 = ql.EuropeanExercise(maturity)"
   ]
  },
  {
   "cell_type": "code",
   "execution_count": 37,
   "metadata": {
    "collapsed": true
   },
   "outputs": [],
   "source": [
    "bsp = ql.BlackProcess(spot_handle,flat_ts,flat_vol_ts)"
   ]
  },
  {
   "cell_type": "code",
   "execution_count": 38,
   "metadata": {
    "collapsed": true
   },
   "outputs": [],
   "source": [
    "barrier_engine = ql.FdBlackScholesBarrierEngine(bsp)"
   ]
  },
  {
   "cell_type": "code",
   "execution_count": 39,
   "metadata": {
    "collapsed": true
   },
   "outputs": [],
   "source": [
    "europeanEngine = ql.AnalyticEuropeanEngine(bsp)"
   ]
  },
  {
   "cell_type": "code",
   "execution_count": 48,
   "metadata": {
    "collapsed": true
   },
   "outputs": [],
   "source": [
    "van_option = ql.VanillaOption(payoff1, exercise1)"
   ]
  },
  {
   "cell_type": "code",
   "execution_count": 49,
   "metadata": {},
   "outputs": [
    {
     "name": "stdout",
     "output_type": "stream",
     "text": [
      "The theoretical price is  0.723111928367\n"
     ]
    }
   ],
   "source": [
    "van_option.setPricingEngine(ql.AnalyticEuropeanEngine(bsp))\n",
    "bs_price = van_option.NPV()\n",
    "print \"The theoretical price is \", bs_price"
   ]
  },
  {
   "cell_type": "code",
   "execution_count": null,
   "metadata": {
    "collapsed": true
   },
   "outputs": [],
   "source": []
  },
  {
   "cell_type": "code",
   "execution_count": 40,
   "metadata": {
    "collapsed": true
   },
   "outputs": [],
   "source": [
    "referenceOption = ql.BarrierOption(barrierType, barrier, rebate,payoff1, exercise1)"
   ]
  },
  {
   "cell_type": "code",
   "execution_count": 41,
   "metadata": {
    "collapsed": true
   },
   "outputs": [],
   "source": [
    "referenceOption.setPricingEngine(barrier_engine)"
   ]
  },
  {
   "cell_type": "code",
   "execution_count": 42,
   "metadata": {
    "collapsed": true
   },
   "outputs": [],
   "source": [
    "Value = referenceOption.NPV()"
   ]
  },
  {
   "cell_type": "code",
   "execution_count": 43,
   "metadata": {},
   "outputs": [
    {
     "data": {
      "text/plain": [
       "0.7230488197758365"
      ]
     },
     "execution_count": 43,
     "metadata": {},
     "output_type": "execute_result"
    }
   ],
   "source": [
    "Value"
   ]
  },
  {
   "cell_type": "code",
   "execution_count": 97,
   "metadata": {
    "collapsed": true
   },
   "outputs": [],
   "source": [
    "#USing analytical Barrier\n",
    "barrier_engine = ql.AnalyticBarrierEngine(bsp)\n"
   ]
  },
  {
   "cell_type": "code",
   "execution_count": 98,
   "metadata": {
    "collapsed": true
   },
   "outputs": [],
   "source": [
    "referenceOption.setPricingEngine(barrier_engine)"
   ]
  },
  {
   "cell_type": "code",
   "execution_count": 99,
   "metadata": {},
   "outputs": [
    {
     "data": {
      "text/plain": [
       "0.7231119283668335"
      ]
     },
     "execution_count": 99,
     "metadata": {},
     "output_type": "execute_result"
    }
   ],
   "source": [
    "referenceOption.NPV()"
   ]
  },
  {
   "cell_type": "code",
   "execution_count": 109,
   "metadata": {},
   "outputs": [],
   "source": [
    "#Using Binoomial Barrier\n",
    "barrier_engine = ql.BinomialBarrierEngine(bsp,'crr',200)"
   ]
  },
  {
   "cell_type": "code",
   "execution_count": 110,
   "metadata": {
    "collapsed": true
   },
   "outputs": [],
   "source": [
    "referenceOption.setPricingEngine(barrier_engine)"
   ]
  },
  {
   "cell_type": "code",
   "execution_count": 111,
   "metadata": {},
   "outputs": [
    {
     "data": {
      "text/plain": [
       "0.7222086080314538"
      ]
     },
     "execution_count": 111,
     "metadata": {},
     "output_type": "execute_result"
    }
   ],
   "source": [
    "referenceOption.NPV()"
   ]
  },
  {
   "cell_type": "code",
   "execution_count": 113,
   "metadata": {},
   "outputs": [],
   "source": [
    "#Monte Carlo Barrier\n",
    "barrier_engine = ql.MCBarrierEngine(bsp, \"PseudoRandom\",timeSteps=20,requiredSamples=250000)"
   ]
  },
  {
   "cell_type": "code",
   "execution_count": 115,
   "metadata": {},
   "outputs": [],
   "source": [
    "referenceOption.setPricingEngine(barrier_engine)"
   ]
  },
  {
   "cell_type": "code",
   "execution_count": 116,
   "metadata": {},
   "outputs": [
    {
     "data": {
      "text/plain": [
       "0.7216271359647999"
      ]
     },
     "execution_count": 116,
     "metadata": {},
     "output_type": "execute_result"
    }
   ],
   "source": [
    "referenceOption.NPV()"
   ]
  },
  {
   "cell_type": "code",
   "execution_count": null,
   "metadata": {
    "collapsed": true
   },
   "outputs": [],
   "source": []
  },
  {
   "cell_type": "code",
   "execution_count": 44,
   "metadata": {},
   "outputs": [
    {
     "data": {
      "text/plain": [
       "-0.4961168724759953"
      ]
     },
     "execution_count": 44,
     "metadata": {},
     "output_type": "execute_result"
    }
   ],
   "source": [
    " referenceOption.delta()"
   ]
  },
  {
   "cell_type": "code",
   "execution_count": 45,
   "metadata": {},
   "outputs": [
    {
     "data": {
      "text/plain": [
       "0.2215949268455051"
      ]
     },
     "execution_count": 45,
     "metadata": {},
     "output_type": "execute_result"
    }
   ],
   "source": [
    "referenceOption.gamma()"
   ]
  },
  {
   "cell_type": "code",
   "execution_count": 46,
   "metadata": {},
   "outputs": [
    {
     "data": {
      "text/plain": [
       "-48.35998599088586"
      ]
     },
     "execution_count": 46,
     "metadata": {},
     "output_type": "execute_result"
    }
   ],
   "source": [
    "referenceOption.theta()"
   ]
  },
  {
   "cell_type": "code",
   "execution_count": null,
   "metadata": {
    "collapsed": true
   },
   "outputs": [],
   "source": [
    "                                                                                                "
   ]
  },
  {
   "cell_type": "markdown",
   "metadata": {},
   "source": [
    "## Barrier functions"
   ]
  },
  {
   "cell_type": "code",
   "execution_count": null,
   "metadata": {
    "collapsed": true
   },
   "outputs": [],
   "source": []
  },
  {
   "cell_type": "code",
   "execution_count": null,
   "metadata": {
    "collapsed": true
   },
   "outputs": [],
   "source": []
  },
  {
   "cell_type": "code",
   "execution_count": 130,
   "metadata": {},
   "outputs": [],
   "source": [
    "def BarrierCalculator(runDate,barrierType,barrier_value,rebate,option,spot,strike,risk_free_rate\n",
    "                      ,vol,maturity, dividend_rate,engine):\n",
    "    # set valuation date \n",
    "    ql.Settings.instance().evaluationDate = runDate\n",
    "    \n",
    "    # Set the Barrier type\n",
    "    if barrierType == \"UpIn\":\n",
    "        barrier = ql.Barrier.UpIn\n",
    "    elif barrierType == \"UpOut\":\n",
    "        barrier = ql.Barrier.UpOut\n",
    "    elif barrierType == \"DownIn\":\n",
    "        barrier = ql.Barrier.DownIn\n",
    "    else:\n",
    "        barrier = ql.Barrier.DownOut\n",
    "    \n",
    "    # Set the Option type\n",
    "    if option == 'c':\n",
    "        option_type = ql.Option.Call\n",
    "    else:\n",
    "        option_type = ql.Option.Put\n",
    "    # Handle values\n",
    "    spot = ql.QuoteHandle(ql.SimpleQuote(spot))\n",
    "    risk_free_rate = ql.QuoteHandle(ql.SimpleQuote(risk_free_rate))\n",
    "    vol = ql.QuoteHandle(ql.SimpleQuote(vol))\n",
    "    # Set calender to South Africa\n",
    "    calendar = ql.SouthAfrica()\n",
    "    \n",
    "    # construct the European Option\n",
    "    payoff = ql.PlainVanillaPayoff(option_type, strike)\n",
    "    exercise = ql.EuropeanExercise(maturity)\n",
    "    european_option = ql.VanillaOption(payoff, exercise)\n",
    "    \n",
    "    # bootstrap the yield/vol curves\n",
    "    day_count = ql.Actual365Fixed()\n",
    "    flat_ts = ql.YieldTermStructureHandle(ql.FlatForward(runDate,risk_free_rate, day_count))\n",
    "    flat_vol_ts = ql.BlackVolTermStructureHandle(ql.BlackConstantVol(runDate, calendar, vol, day_count))\n",
    "    dividend_yield = ql.YieldTermStructureHandle(ql.FlatForward(runDate,dividend_rate, day_count))\n",
    "    \n",
    "    # Black Scholes model\n",
    "    bsm = ql.GeneralizedBlackScholesProcess(spot,dividend_yield,flat_ts,flat_vol_ts)\n",
    "    \n",
    "    # Vanilla Option\n",
    "    van_option = ql.VanillaOption(payoff, exercise)\n",
    "    van_option.setPricingEngine(ql.AnalyticEuropeanEngine(bsm))\n",
    "    \n",
    "    # barrier Option\n",
    "    Barrier_option = ql.BarrierOption(barrier, barrier_value, rebate,payoff, exercise)\n",
    "    \n",
    "    # Barrier engine\n",
    "    if engine == 'AB':\n",
    "        barrier_engine = ql.AnalyticBarrierEngine(bsm)\n",
    "        Barrier_option.setPricingEngine(barrier_engine)\n",
    "    elif engine == 'BB':\n",
    "        barrier_engine = ql.BinomialBarrierEngine(bsm,'crr',200)\n",
    "        Barrier_option.setPricingEngine(barrier_engine)\n",
    "    elif engine == 'FD':\n",
    "        barrier_engine = ql.FdBlackScholesBarrierEngine(bsm)\n",
    "        Barrier_option.setPricingEngine(barrier_engine)\n",
    "    else:\n",
    "        barrier_engine = ql.MCBarrierEngine(bsm, \"PseudoRandom\",timeSteps=20,requiredSamples=250000)\n",
    "        Barrier_option.setPricingEngine(barrier_engine)\n",
    "    value = Barrier_option.NPV()\n",
    "    return value\n",
    "    "
   ]
  },
  {
   "cell_type": "code",
   "execution_count": 134,
   "metadata": {
    "collapsed": true
   },
   "outputs": [],
   "source": [
    "# Test Function\n",
    "runDate= ql.Date(29, 5, 2006)\n",
    "ql.Settings.instance().evaluationDate = runDate\n",
    "\n",
    "BarrierType = 'DownOut'\n",
    "barrier = 70.0\n",
    "rebate = 0.0\n",
    "option_type = 'p'\n",
    "underlyingValue = 200\n",
    "strike = 100\n",
    "risk_free_rate = 0.04\n",
    "vol = 0.2\n",
    "maturity = runDate + 1*ql.Years\n",
    "dividend_rate =  0.0163\n",
    "engine = 'FD'"
   ]
  },
  {
   "cell_type": "code",
   "execution_count": 135,
   "metadata": {},
   "outputs": [],
   "source": [
    "cal = BarrierCalculator(runDate,BarrierType,barrier,rebate,option_type,underlyingValue,strike,risk_free_rate,vol,maturity,dividend_rate,engine)"
   ]
  },
  {
   "cell_type": "code",
   "execution_count": 136,
   "metadata": {},
   "outputs": [
    {
     "data": {
      "text/plain": [
       "6.979936115808295e-78"
      ]
     },
     "execution_count": 136,
     "metadata": {},
     "output_type": "execute_result"
    }
   ],
   "source": [
    "cal"
   ]
  },
  {
   "cell_type": "code",
   "execution_count": null,
   "metadata": {
    "collapsed": true
   },
   "outputs": [],
   "source": []
  }
 ],
 "metadata": {
  "kernelspec": {
   "display_name": "Python 2",
   "language": "python",
   "name": "python2"
  },
  "language_info": {
   "codemirror_mode": {
    "name": "ipython",
    "version": 2
   },
   "file_extension": ".py",
   "mimetype": "text/x-python",
   "name": "python",
   "nbconvert_exporter": "python",
   "pygments_lexer": "ipython2",
   "version": "2.7.14"
  }
 },
 "nbformat": 4,
 "nbformat_minor": 2
}
