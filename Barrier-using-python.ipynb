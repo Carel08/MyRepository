{
 "cells": [
  {
   "cell_type": "markdown",
   "metadata": {},
   "source": [
    "# Creating a barrier book in python"
   ]
  },
  {
   "cell_type": "code",
   "execution_count": 1,
   "metadata": {
    "collapsed": true
   },
   "outputs": [],
   "source": [
    "import math\n",
    "from scipy.stats.distributions import norm\n",
    "import matplotlib.pyplot as plt"
   ]
  },
  {
   "cell_type": "code",
   "execution_count": 19,
   "metadata": {},
   "outputs": [
    {
     "name": "stdout",
     "output_type": "stream",
     "text": [
      "Do you want to price a put(p) or a call(c) option? c\n"
     ]
    }
   ],
   "source": [
    "error = True\n",
    "message = \"This input is incorrect. Please enter p for put or c for call\"\n",
    "while error:\n",
    "    error = False\n",
    "    putCall = raw_input(\"Do you want to price a put(p) or a call(c) option? \" )\n",
    "    if putCall == 'p':\n",
    "        phi = -1\n",
    "    elif putCall == 'c':\n",
    "        phi = 1\n",
    "    else:\n",
    "        print message\n",
    "        error = True"
   ]
  },
  {
   "cell_type": "code",
   "execution_count": 20,
   "metadata": {},
   "outputs": [
    {
     "name": "stdout",
     "output_type": "stream",
     "text": [
      "Please enter the current Stock price- 127.62\n",
      "Please enter the strike price of the option- 130\n",
      "Please enter the time to maturity(in days)- 369\n"
     ]
    }
   ],
   "source": [
    "S =input(\"Please enter the current Stock price- \")\n",
    "X = input(\"Please enter the strike price of the option- \")\n",
    "T= input(\"Please enter the time to maturity(in days)- \")\n",
    "T = float(T)/365"
   ]
  },
  {
   "cell_type": "code",
   "execution_count": 21,
   "metadata": {},
   "outputs": [
    {
     "name": "stdout",
     "output_type": "stream",
     "text": [
      "Please enter the volatility of the underlying asset- 0.2\n",
      "Please enter the carry rate- 0.0163\n",
      "Please enter the yearly interest rate- 0.001\n"
     ]
    }
   ],
   "source": [
    "sigma = input(\"Please enter the volatility of the underlying asset- \")\n",
    "b = input(\"Please enter the carry rate- \")\n",
    "r = input(\"Please enter the yearly interest rate- \")\n",
    "r = r"
   ]
  },
  {
   "cell_type": "code",
   "execution_count": 22,
   "metadata": {},
   "outputs": [
    {
     "name": "stdout",
     "output_type": "stream",
     "text": [
      "Please enter the barrier height- 131\n"
     ]
    }
   ],
   "source": [
    "H = input(\"Please enter the barrier height- \" )"
   ]
  },
  {
   "cell_type": "code",
   "execution_count": 23,
   "metadata": {},
   "outputs": [
    {
     "name": "stdout",
     "output_type": "stream",
     "text": [
      "How high is the rebate you receive if you get knocked out?- 0\n"
     ]
    }
   ],
   "source": [
    "K = input(\"How high is the rebate you receive if you get knocked out?- \")"
   ]
  },
  {
   "cell_type": "code",
   "execution_count": 24,
   "metadata": {},
   "outputs": [
    {
     "name": "stdout",
     "output_type": "stream",
     "text": [
      "Please type whether it is an out or an in barrier.(out/in)- in\n"
     ]
    }
   ],
   "source": [
    "message3 =\"Please enter out or in.\"\n",
    "error3 = True\n",
    "while error3:\n",
    "    inOut = raw_input(\"Please type whether it is an out or an in barrier.(out/in)- \")\n",
    "    if inOut == 'out'or inOut == 'in':\n",
    "        error3 = False\n",
    "    else:\n",
    "        print message3"
   ]
  },
  {
   "cell_type": "code",
   "execution_count": 25,
   "metadata": {
    "collapsed": true
   },
   "outputs": [],
   "source": [
    "X = float(X)\n",
    "b = float(b)\n",
    "H = float(H)\n",
    "K = float(K)\n",
    "S = float(S)"
   ]
  },
  {
   "cell_type": "code",
   "execution_count": 26,
   "metadata": {
    "collapsed": true
   },
   "outputs": [],
   "source": [
    "####Function for evaluating the option price given the underlying price"
   ]
  },
  {
   "cell_type": "code",
   "execution_count": 27,
   "metadata": {},
   "outputs": [],
   "source": [
    "def price_option(S):\n",
    "    if putCall == 'c':\n",
    "        phi = 1\n",
    "    else:\n",
    "        phi = -1\n",
    "    if S>H:\n",
    "        eta = 1\n",
    "    else:\n",
    "        eta = -1\n",
    "    sigma2 = sigma**2\n",
    "    mu = (b-(sigma2 / 2))/sigma2\n",
    "    landa = math.sqrt(mu**2.0 + (2*r)/(sigma2))\n",
    "    x1 = (math.log(S/X)) / (sigma*math.sqrt(T)) + (1+mu)*sigma*math.sqrt(T)\n",
    "    x2 = (math.log(S/H)) / (sigma*math.sqrt(T)) + (1+mu)*sigma*math.sqrt(T)\n",
    "    y1 = math.log((H**2)/(S*X)) / (sigma*math.sqrt(T)) + (1+mu)*sigma*math.sqrt(T)\n",
    "    y2 = math.log(H/S) / (sigma*math.sqrt(T)) + (1+mu)*sigma*math.sqrt(T)\n",
    "    z = math.log(H/S) / (sigma*math.sqrt(T)) + landa*sigma*math.sqrt(T)\n",
    "    n1=phi*x1-phi*sigma*math.sqrt(T)\n",
    "    A= phi * S*math.exp(b-r)*norm.cdf(phi*x1,0,1) - phi*X*math.exp(-r*T)*norm.cdf(n1,0,1)\n",
    "    n2=phi*x2-phi*sigma*math.sqrt(T)\n",
    "    B= phi * S*math.exp(b-r)*norm.cdf(phi*x2,0,1) - phi*X*math.exp(-r*T)*norm.cdf(n2,0,1)\n",
    "    n3=eta*y1\n",
    "    n4=eta*y1-eta*sigma*math.sqrt(T)\n",
    "    C= phi * S*math.exp(b-r)*(H/S)**(2*(mu+1))*norm.cdf(n3,0,1) - phi*X*math.exp(-r*T)*(H/S)\n",
    "    n5=eta*y2\n",
    "    n6=eta*y2-eta*sigma*math.sqrt(T)\n",
    "    D= phi * S*math.exp(b-r)*(H/S)**(2*(mu+1))*norm.cdf(n5,0,1) - phi*X*math.exp(-r*T)*(H/S)\n",
    "    n9 = norm.cdf(eta*x2 - eta*sigma*math.sqrt(T),0,1)\n",
    "    n10 = norm.cdf(eta*y2 - eta*sigma*math.sqrt(T),0,1)\n",
    "    E = K*math.exp(-r*T)*(n9 - (H/S)**(2*mu)*n10)\n",
    "    n11 = norm.cdf(z*eta, 0,1)\n",
    "    n12 = norm.cdf(eta*z-2*eta*landa*sigma*math.sqrt(T),0,1)\n",
    "    F = K*math.exp(-r*T)*((H/S)**(mu+landa)*(n11)-(H/S)**(mu-landa)*n12)\n",
    "    \n",
    "    if putCall == 'p':\n",
    "        if X < H:\n",
    "            if S > H:\n",
    "                if inOut == 'in':\n",
    "                    price = A + E\n",
    "                elif inOut == 'out':\n",
    "                    price = F\n",
    "            else:\n",
    "                if inOut == 'in':\n",
    "                    price = C + E\n",
    "                elif inOut == 'out':\n",
    "                    price = A - C + F\n",
    "        else:\n",
    "            if S > H:\n",
    "                if inOut == 'in':\n",
    "                    price = B - C + D + E\n",
    "                elif inOut == 'out':\n",
    "                    price = A - B + C - D + F\n",
    "            else:\n",
    "                if inOut == 'in':\n",
    "                    price = A - B + D + E\n",
    "                elif inOut == 'out':\n",
    "                    price = B - D + F\n",
    "    else:\n",
    "        if X < H:\n",
    "            if S > H:\n",
    "                if inOut == 'in':\n",
    "                    price = A - B + D + E\n",
    "                elif inOut == 'out':\n",
    "                    price = B - D + F\n",
    "            else:\n",
    "                if inOut == 'in':\n",
    "                    price = B - C + D + E\n",
    "                elif inOut == 'out':\n",
    "                    price = A - B + C - D + F\n",
    "        else:\n",
    "            if S > H:\n",
    "                if inOut == 'in':\n",
    "                    price = C + E\n",
    "                elif inOut == 'out':\n",
    "                    price = A - C + F\n",
    "            else:\n",
    "                if inOut == 'in':\n",
    "                    price = A + E\n",
    "                elif inOut == 'out':\n",
    "                    price = F\n",
    "    if price < 0:\n",
    "        price = 0\n",
    "    return price"
   ]
  },
  {
   "cell_type": "code",
   "execution_count": null,
   "metadata": {
    "collapsed": true
   },
   "outputs": [],
   "source": []
  },
  {
   "cell_type": "code",
   "execution_count": 28,
   "metadata": {},
   "outputs": [
    {
     "name": "stdout",
     "output_type": "stream",
     "text": [
      "12.1979099893\n",
      "[102, 103, 104, 105, 106, 107, 108, 109, 110, 111, 112, 113, 114, 115, 116, 117, 118, 119, 120, 121, 122, 123, 124, 125, 126, 127, 128, 129, 130, 131, 132, 133, 134, 135, 136, 137, 138, 139, 140, 141, 142, 143, 144, 145, 146, 147, 148, 149, 150, 151, 152, 153, 154, 155, 156, 157, 158, 159, 160, 161, 162, 163, 164, 165, 166, 167, 168, 169, 170, 171, 172, 173, 174, 175, 176]\n",
      "[2.3860216258910611, 2.6017305202541365, 2.8301723965987833, 3.0715784093296179, 3.3261565672623306, 3.5940916749043197, 3.8755454267892446, 4.1706566424427081, 4.479541628750269, 4.8022946559979971, 5.1389885336265024, 5.4896752717677373, 5.8543868148836964, 6.2331358342762684, 6.6259165668466977, 7.0327056882344863, 7.4534632093172064, 7.8881333859845455, 8.3366456330844585, 8.7989154344456324, 9.2748452419006071, 9.7643253572319821, 10.267234791938364, 10.783442100644507, 11.312806184854054, 11.855177064552791, 12.410396615913058, 12.978299274016507, 13.558712700103854, 14.151458413378606, 0, 0, 0, 0, 0, 0, 0, 0, 0, 0, 0, 0, 0, 0, 0, 0, 0, 0, 0, 0, 0, 0, 0, 0, 0, 0, 0, 0, 0, 0, 0, 0, 0, 0, 0, 0, 0, 0, 0, 0, 0, 0, 0, 0, 0]\n"
     ]
    }
   ],
   "source": [
    "##Underlying price\n",
    "print price_option(S)\n",
    "S=int(S)\n",
    "u_price = range(S-25, S+50)\n",
    "##Option price\n",
    "op_price = []\n",
    "for i in range(len(u_price)):\n",
    "    op_price.append(price_option(u_price[i]))\n",
    "print u_price\n",
    "print op_price"
   ]
  },
  {
   "cell_type": "code",
   "execution_count": 29,
   "metadata": {},
   "outputs": [
    {
     "data": {
      "image/png": "[encoded data removed]",
      "text/plain": [
       "<matplotlib.figure.Figure at 0x7fa1c285fa90>"
      ]
     },
     "metadata": {},
     "output_type": "display_data"
    }
   ],
   "source": [
    "#Plotting the underlying price vs. the option price\n",
    "plt.plot(u_price, op_price, color='red')\n",
    "plt.xlabel('Underlying price', fontsize=14)\n",
    "plt.ylabel('Option price',fontsize=14)\n",
    "plt.title('PUT Out Barrier X < H', fontsize=20)\n",
    "plt.show()"
   ]
  },
  {
   "cell_type": "code",
   "execution_count": null,
   "metadata": {
    "collapsed": true
   },
   "outputs": [],
   "source": []
  },
  {
   "cell_type": "code",
   "execution_count": 32,
   "metadata": {
    "collapsed": true
   },
   "outputs": [],
   "source": [
    "import QuantLib as ql # version 1.5\n",
    "import matplotlib.pyplot as plt\n",
    "%matplotlib inline"
   ]
  },
  {
   "cell_type": "code",
   "execution_count": 33,
   "metadata": {},
   "outputs": [],
   "source": [
    "# option data\n",
    "maturity_date = ql.Date(15, 1, 2016)\n",
    "spot_price = 127.62\n",
    "strike_price = 130\n",
    "volatility = 0.20 # the historical vols for a year\n",
    "dividend_rate =  0.0163\n",
    "option_type = ql.Option.Call\n",
    "\n",
    "risk_free_rate = 0.001\n",
    "day_count = ql.Actual365Fixed()\n",
    "calendar = ql.UnitedStates()\n",
    "\n",
    "calculation_date = ql.Date(8, 5, 2015)\n",
    "ql.Settings.instance().evaluationDate = calculation_date"
   ]
  },
  {
   "cell_type": "code",
   "execution_count": 34,
   "metadata": {
    "collapsed": true
   },
   "outputs": [],
   "source": [
    "# construct the European Option\n",
    "payoff = ql.PlainVanillaPayoff(option_type, strike_price)\n",
    "exercise = ql.EuropeanExercise(maturity_date)\n",
    "european_option = ql.VanillaOption(payoff, exercise)"
   ]
  },
  {
   "cell_type": "code",
   "execution_count": 53,
   "metadata": {},
   "outputs": [],
   "source": [
    "spot_handle = ql.QuoteHandle(ql.SimpleQuote(spot_price))\n",
    "flat_ts = ql.YieldTermStructureHandle(ql.FlatForward(calculation_date, risk_free_rate, day_count))\n",
    "dividend_yield = ql.YieldTermStructureHandle(ql.FlatForward(calculation_date, dividend_rate, day_count))\n",
    "flat_vol_ts = ql.BlackVolTermStructureHandle(ql.BlackConstantVol(calculation_date, calendar, volatility, day_count))\n",
    "bsm_process = ql.BlackProcess(spot_handle,flat_ts,flat_vol_ts)"
   ]
  },
  {
   "cell_type": "code",
   "execution_count": 54,
   "metadata": {},
   "outputs": [
    {
     "name": "stdout",
     "output_type": "stream",
     "text": [
      "The theoretical price is  7.38734748882\n"
     ]
    }
   ],
   "source": [
    "european_option.setPricingEngine(ql.AnalyticEuropeanEngine(bsm_process))\n",
    "bs_price = european_option.NPV()\n",
    "print \"The theoretical price is \", bs_price"
   ]
  },
  {
   "cell_type": "code",
   "execution_count": 55,
   "metadata": {
    "collapsed": true
   },
   "outputs": [],
   "source": [
    "def binomial_price(bsm_process, steps):\n",
    "    binomial_engine = ql.BinomialVanillaEngine(bsm_process, \"crr\", steps)\n",
    "    european_option.setPricingEngine(binomial_engine)\n",
    "    return european_option.NPV()\n",
    "\n",
    "steps = range(2, 100, 1)\n",
    "prices = [binomial_price(bsm_process, step) for step in steps]"
   ]
  },
  {
   "cell_type": "code",
   "execution_count": 56,
   "metadata": {},
   "outputs": [
    {
     "data": {
      "text/plain": [
       "<matplotlib.legend.Legend at 0x7fa1b63a00d0>"
      ]
     },
     "execution_count": 56,
     "metadata": {},
     "output_type": "execute_result"
    },
    {
     "data": {
      "image/png": "[encoded data removed]",
      "text/plain": [
       "<matplotlib.figure.Figure at 0x7fa1ba892bd0>"
      ]
     },
     "metadata": {},
     "output_type": "display_data"
    }
   ],
   "source": [
    "plt.plot(steps, prices, label=\"Binomial Tree Price\", lw=2, alpha=0.6)\n",
    "plt.plot([0,100],[bs_price, bs_price], \"r--\", label=\"BSM Price\", lw=2, alpha=0.6)\n",
    "plt.xlabel(\"Steps\")\n",
    "plt.ylabel(\"Price\")\n",
    "plt.title(\"Binomial Tree Price For Varying Steps\")\n",
    "plt.legend()"
   ]
  },
  {
   "cell_type": "markdown",
   "metadata": {},
   "source": [
    "# Monte carlo"
   ]
  },
  {
   "cell_type": "code",
   "execution_count": 57,
   "metadata": {},
   "outputs": [],
   "source": [
    "engine = ql.MCEuropeanEngine(bsm_process, \"PseudoRandom\",timeSteps=20,requiredSamples=250000)\n",
    "european_option.setPricingEngine(engine)"
   ]
  },
  {
   "cell_type": "code",
   "execution_count": 58,
   "metadata": {},
   "outputs": [
    {
     "data": {
      "text/plain": [
       "7.407117247292182"
      ]
     },
     "execution_count": 58,
     "metadata": {},
     "output_type": "execute_result"
    }
   ],
   "source": [
    "european_option.NPV()"
   ]
  },
  {
   "cell_type": "code",
   "execution_count": 59,
   "metadata": {},
   "outputs": [
    {
     "ename": "RuntimeError",
     "evalue": "delta not provided",
     "output_type": "error",
     "traceback": [
      "\u001b[0;31m---------------------------------------------------------------------------\u001b[0m",
      "\u001b[0;31mRuntimeError\u001b[0m                              Traceback (most recent call last)",
      "\u001b[0;32m<ipython-input-59-2d3f6b5b7424>\u001b[0m in \u001b[0;36m<module>\u001b[0;34m()\u001b[0m\n\u001b[0;32m----> 1\u001b[0;31m \u001b[0;32mprint\u001b[0m \u001b[0meuropean_option\u001b[0m\u001b[0;34m.\u001b[0m\u001b[0mdelta\u001b[0m\u001b[0;34m(\u001b[0m\u001b[0;34m)\u001b[0m\u001b[0;34m\u001b[0m\u001b[0m\n\u001b[0m\u001b[1;32m      2\u001b[0m \u001b[0;32mprint\u001b[0m \u001b[0meuropean_option\u001b[0m\u001b[0;34m.\u001b[0m\u001b[0mgamma\u001b[0m\u001b[0;34m(\u001b[0m\u001b[0;34m)\u001b[0m\u001b[0;34m\u001b[0m\u001b[0m\n\u001b[1;32m      3\u001b[0m \u001b[0;32mprint\u001b[0m \u001b[0meuropean_option\u001b[0m\u001b[0;34m.\u001b[0m\u001b[0mvega\u001b[0m\u001b[0;34m(\u001b[0m\u001b[0;34m)\u001b[0m\u001b[0;34m\u001b[0m\u001b[0m\n",
      "\u001b[0;32m/home/carel/anaconda2/lib/python2.7/site-packages/QuantLib/QuantLib.pyc\u001b[0m in \u001b[0;36mdelta\u001b[0;34m(self)\u001b[0m\n\u001b[1;32m  10578\u001b[0m \u001b[0;34m\u001b[0m\u001b[0m\n\u001b[1;32m  10579\u001b[0m     \u001b[0;32mdef\u001b[0m \u001b[0mdelta\u001b[0m\u001b[0;34m(\u001b[0m\u001b[0mself\u001b[0m\u001b[0;34m)\u001b[0m\u001b[0;34m:\u001b[0m\u001b[0;34m\u001b[0m\u001b[0m\n\u001b[0;32m> 10580\u001b[0;31m         \u001b[0;32mreturn\u001b[0m \u001b[0m_QuantLib\u001b[0m\u001b[0;34m.\u001b[0m\u001b[0mVanillaOption_delta\u001b[0m\u001b[0;34m(\u001b[0m\u001b[0mself\u001b[0m\u001b[0;34m)\u001b[0m\u001b[0;34m\u001b[0m\u001b[0m\n\u001b[0m\u001b[1;32m  10581\u001b[0m \u001b[0;34m\u001b[0m\u001b[0m\n\u001b[1;32m  10582\u001b[0m     \u001b[0;32mdef\u001b[0m \u001b[0mgamma\u001b[0m\u001b[0;34m(\u001b[0m\u001b[0mself\u001b[0m\u001b[0;34m)\u001b[0m\u001b[0;34m:\u001b[0m\u001b[0;34m\u001b[0m\u001b[0m\n",
      "\u001b[0;31mRuntimeError\u001b[0m: delta not provided"
     ]
    }
   ],
   "source": [
    "print european_option.delta()\n",
    "print european_option.gamma()\n",
    "print european_option.vega()"
   ]
  },
  {
   "cell_type": "markdown",
   "metadata": {},
   "source": [
    "# Finite Difference"
   ]
  },
  {
   "cell_type": "code",
   "execution_count": 60,
   "metadata": {
    "collapsed": true
   },
   "outputs": [],
   "source": [
    "engine = ql.FDEuropeanEngine(bsm_process,801,801)\n",
    "european_option.setPricingEngine(engine)"
   ]
  },
  {
   "cell_type": "code",
   "execution_count": 61,
   "metadata": {},
   "outputs": [
    {
     "data": {
      "text/plain": [
       "7.387251162785308"
      ]
     },
     "execution_count": 61,
     "metadata": {},
     "output_type": "execute_result"
    }
   ],
   "source": [
    "european_option.NPV()"
   ]
  },
  {
   "cell_type": "code",
   "execution_count": 62,
   "metadata": {},
   "outputs": [
    {
     "name": "stdout",
     "output_type": "stream",
     "text": [
      "0.488456890685\n",
      "0.0187906031794\n"
     ]
    }
   ],
   "source": [
    "print european_option.delta()\n",
    "print european_option.gamma()"
   ]
  },
  {
   "cell_type": "markdown",
   "metadata": {},
   "source": [
    "# Creating a barrier"
   ]
  },
  {
   "cell_type": "code",
   "execution_count": null,
   "metadata": {
    "collapsed": true
   },
   "outputs": [],
   "source": []
  },
  {
   "cell_type": "code",
   "execution_count": null,
   "metadata": {
    "collapsed": true
   },
   "outputs": [],
   "source": []
  },
  {
   "cell_type": "code",
   "execution_count": null,
   "metadata": {
    "collapsed": true
   },
   "outputs": [],
   "source": []
  },
  {
   "cell_type": "code",
   "execution_count": null,
   "metadata": {
    "collapsed": true
   },
   "outputs": [],
   "source": []
  }
 ],
 "metadata": {
  "kernelspec": {
   "display_name": "Python 2",
   "language": "python",
   "name": "python2"
  },
  "language_info": {
   "codemirror_mode": {
    "name": "ipython",
    "version": 2
   },
   "file_extension": ".py",
   "mimetype": "text/x-python",
   "name": "python",
   "nbconvert_exporter": "python",
   "pygments_lexer": "ipython2",
   "version": "2.7.14"
  }
 },
 "nbformat": 4,
 "nbformat_minor": 2
}
