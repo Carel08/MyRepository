{
 "cells": [
  {
   "cell_type": "markdown",
   "metadata": {},
   "source": [
    "# Creating a barrier book in python"
   ]
  },
  {
   "cell_type": "code",
   "execution_count": 124,
   "metadata": {
    "collapsed": true
   },
   "outputs": [],
   "source": [
    "import math\n",
    "from scipy.stats.distributions import norm\n",
    "import matplotlib.pyplot as plt"
   ]
  },
  {
   "cell_type": "code",
   "execution_count": 125,
   "metadata": {},
   "outputs": [
    {
     "name": "stdout",
     "output_type": "stream",
     "text": [
      "Do you want to price a put(p) or a call(c) option? c\n"
     ]
    }
   ],
   "source": [
    "error = True\n",
    "message = \"This input is incorrect. Please enter p for put or c for call\"\n",
    "while error:\n",
    "    error = False\n",
    "    putCall = raw_input(\"Do you want to price a put(p) or a call(c) option? \" )\n",
    "    if putCall == 'p':\n",
    "        phi = -1\n",
    "    elif putCall == 'c':\n",
    "        phi = 1\n",
    "    else:\n",
    "        print message\n",
    "        error = True"
   ]
  },
  {
   "cell_type": "code",
   "execution_count": 128,
   "metadata": {},
   "outputs": [
    {
     "name": "stdout",
     "output_type": "stream",
     "text": [
      "Please enter the current Stock price- 300\n",
      "Please enter the strike price of the option- 250\n",
      "Please enter the time to maturity(in days)- 268\n"
     ]
    }
   ],
   "source": [
    "S  =input(\"Please enter the current Stock price- \" )\n",
    "X = input(\"Please enter the strike price of the option- \")\n",
    "T= input(\"Please enter the time to maturity(in days)- \")\n",
    "T = float(T)/365"
   ]
  },
  {
   "cell_type": "code",
   "execution_count": 129,
   "metadata": {},
   "outputs": [
    {
     "name": "stdout",
     "output_type": "stream",
     "text": [
      "Please enter the volatility of the underlying asset- 0.03\n",
      "Please enter the carry rate- 0125\n",
      "Please enter the yearly interest rate- 0.06358\n"
     ]
    }
   ],
   "source": [
    "sigma = input(\"Please enter the volatility of the underlying asset- \")\n",
    "b = input(\"Please enter the carry rate- \")\n",
    "r = input(\"Please enter the yearly interest rate- \")\n",
    "r = r"
   ]
  },
  {
   "cell_type": "code",
   "execution_count": 131,
   "metadata": {},
   "outputs": [
    {
     "name": "stdout",
     "output_type": "stream",
     "text": [
      "Please enter the barrier height- 70\n"
     ]
    }
   ],
   "source": [
    "H = input(\"Please enter the barrier height- \")"
   ]
  },
  {
   "cell_type": "code",
   "execution_count": 132,
   "metadata": {},
   "outputs": [
    {
     "name": "stdout",
     "output_type": "stream",
     "text": [
      "How high is the rebate you receive if you get knocked out?- 0\n"
     ]
    }
   ],
   "source": [
    "K = input(\"How high is the rebate you receive if you get knocked out?- \")"
   ]
  },
  {
   "cell_type": "code",
   "execution_count": 133,
   "metadata": {},
   "outputs": [
    {
     "name": "stdout",
     "output_type": "stream",
     "text": [
      "Please type whether it is an out or an in barrier.(out/in)- i\n",
      "Please enter out or in.\n",
      "Please type whether it is an out or an in barrier.(out/in)- in\n"
     ]
    }
   ],
   "source": [
    "message3 =\"Please enter out or in.\"\n",
    "error3 = True\n",
    "while error3:\n",
    "    inOut = raw_input(\"Please type whether it is an out or an in barrier.(out/in)- \")\n",
    "    if inOut == 'out'or inOut == 'in':\n",
    "        error3 = False\n",
    "    else:\n",
    "        print message3"
   ]
  },
  {
   "cell_type": "code",
   "execution_count": 134,
   "metadata": {
    "collapsed": true
   },
   "outputs": [],
   "source": [
    "X=  float(X)\n",
    "b= float(b)\n",
    "H = float(H)\n",
    "K =  float(K)\n",
    "S =  float(S)"
   ]
  },
  {
   "cell_type": "code",
   "execution_count": 135,
   "metadata": {
    "collapsed": true
   },
   "outputs": [],
   "source": [
    "def price_option(S):\n",
    "    if putCall == 'c':\n",
    "        phi = 1\n",
    "    else:\n",
    "        phi = -1\n",
    "    if S>H:\n",
    "        eta = 1\n",
    "    else:\n",
    "        eta = -1\n",
    "    sigma2 = sigma**2\n",
    "    mu = (b-(sigma2 / 2))/sigma2\n",
    "    landa = math.sqrt(mu**2.0 + (2*r)/(sigma2))\n",
    "    x1 = (math.log(S/X)) / (sigma*math.sqrt(T)) + (1+mu)*sigma*math.sqrt(T)\n",
    "    x2 = (math.log(S/H)) / (sigma*math.sqrt(T)) + (1+mu)*sigma*math.sqrt(T)\n",
    "    y1 = math.log((H**2)/(S*X)) / (sigma*math.sqrt(T)) + (1+mu)*sigma*math.sqrt(T)\n",
    "    y2 = math.log(H/S) / (sigma*math.sqrt(T)) + (1+mu)*sigma*math.sqrt(T)\n",
    "    z = math.log(H/S) / (sigma*math.sqrt(T)) + landa*sigma*math.sqrt(T)\n",
    "    n1=phi*x1-phi*sigma*math.sqrt(T)\n",
    "    A= phi * S*math.exp(b-r)*norm.cdf(phi*x1,0,1) - phi*X*math.exp(-r*T)*norm.cdf(n1,0,1)\n",
    "    n2=phi*x2-phi*sigma*math.sqrt(T)\n",
    "    B= phi * S*math.exp(b-r)*norm.cdf(phi*x2,0,1) - phi*X*math.exp(-r*T)*norm.cdf(n2,0,1)\n",
    "    n3=eta*y1\n",
    "    n4=eta*y1-eta*sigma*math.sqrt(T)\n",
    "    C= phi * S*math.exp(b-r)*(H/S)**(2*(mu+1))*norm.cdf(n3,0,1) - phi*X*math.exp(-r*T)*(H/S)\n",
    "    n5=eta*y2\n",
    "    n6=eta*y2-eta*sigma*math.sqrt(T)\n",
    "    D= phi * S*math.exp(b-r)*(H/S)**(2*(mu+1))*norm.cdf(n5,0,1) - phi*X*math.exp(-r*T)*(H/S)\n",
    "    n9 = norm.cdf(eta*x2 - eta*sigma*math.sqrt(T),0,1)\n",
    "    n10 = norm.cdf(eta*y2 - eta*sigma*math.sqrt(T),0,1)\n",
    "    E = K*math.exp(-r*T)*(n9 - (H/S)**(2*mu)*n10)\n",
    "    n11 = norm.cdf(z*eta, 0,1)\n",
    "    n12 = norm.cdf(eta*z-2*eta*landa*sigma*math.sqrt(T),0,1)\n",
    "    F = K*math.exp(-r*T)*((H/S)**(mu+landa)*(n11)-(H/S)**(mu-landa)*n12)\n",
    "    \n",
    "    if putCall == 'p':\n",
    "        if X < H:\n",
    "            if S > H:\n",
    "                if inOut == 'in':\n",
    "                    price = A + E\n",
    "                elif inOut == 'out':\n",
    "                    price = F\n",
    "            else:\n",
    "                if inOut == 'in':\n",
    "                    price = C + E\n",
    "                elif inOut == 'out':\n",
    "                    price = A - C + F\n",
    "        else:\n",
    "            if S > H:\n",
    "                if inOut == 'in':\n",
    "                    price = B - C + D + E\n",
    "                elif inOut == 'out':\n",
    "                    price = A - B + C - D + F\n",
    "            else:\n",
    "                if inOut == 'in':\n",
    "                    price = A - B + D + E\n",
    "                elif inOut == 'out':\n",
    "                    price = B - D + F\n",
    "    else:\n",
    "        if X < H:\n",
    "            if S > H:\n",
    "                if inOut == 'in':\n",
    "                    price = A - B + D + E\n",
    "                elif inOut == 'out':\n",
    "                    price = B - D + F\n",
    "            else:\n",
    "                if inOut == 'in':\n",
    "                    price = B - C + D + E\n",
    "                elif inOut == 'out':\n",
    "                    price = A - B + C - D + F\n",
    "        else:\n",
    "            if S > H:\n",
    "                if inOut == 'in':\n",
    "                    price = C + E\n",
    "                elif inOut == 'out':\n",
    "                    price = A - C + F\n",
    "            else:\n",
    "                if inOut == 'in':\n",
    "                    price = A + E\n",
    "                elif inOut == 'out':\n",
    "                    price = F\n",
    "    if price < 0:\n",
    "        price = 0\n",
    "    return price"
   ]
  },
  {
   "cell_type": "code",
   "execution_count": 136,
   "metadata": {},
   "outputs": [
    {
     "name": "stdout",
     "output_type": "stream",
     "text": [
      "0\n",
      "[275, 276, 277, 278, 279, 280, 281, 282, 283, 284, 285, 286, 287, 288, 289, 290, 291, 292, 293, 294, 295, 296, 297, 298, 299, 300, 301, 302, 303, 304, 305, 306, 307, 308, 309, 310, 311, 312, 313, 314, 315, 316, 317, 318, 319, 320, 321, 322, 323, 324, 325, 326, 327, 328, 329, 330, 331, 332, 333, 334, 335, 336, 337, 338, 339, 340, 341, 342, 343, 344, 345, 346, 347, 348, 349]\n",
      "[0, 0, 0, 0, 0, 0, 0, 0, 0, 0, 0, 0, 0, 0, 0, 0, 0, 0, 0, 0, 0, 0, 0, 0, 0, 0, 0, 0, 0, 0, 0, 0, 0, 0, 0, 0, 0, 0, 0, 0, 0, 0, 0, 0, 0, 0, 0, 0, 0, 0, 0, 0, 0, 0, 0, 0, 0, 0, 0, 0, 0, 0, 0, 0, 0, 0, 0, 0, 0, 0, 0, 0, 0, 0, 0]\n"
     ]
    }
   ],
   "source": [
    "##Underlying price\n",
    "print price_option(S)\n",
    "S=int(S)\n",
    "u_price = range(S-25, S+50)\n",
    "##Option price\n",
    "op_price = []\n",
    "for i in range(len(u_price)):\n",
    "    op_price.append(price_option(u_price[i]))\n",
    "print u_price\n",
    "print op_price"
   ]
  },
  {
   "cell_type": "code",
   "execution_count": 137,
   "metadata": {},
   "outputs": [
    {
     "data": {
      "image/png": "[encoded data removed]",
      "text/plain": [
       "<matplotlib.figure.Figure at 0x7f02bcb7e350>"
      ]
     },
     "metadata": {},
     "output_type": "display_data"
    }
   ],
   "source": [
    "\n",
    "#Plotting the underlying price vs. the option price#Plottin \n",
    "plt.plot(u_price, op_price, color='red')\n",
    "plt.xlabel('Underlying price', fontsize=14)\n",
    "plt.ylabel('Option price',fontsize=14)\n",
    "plt.title('PUT Out Barrier X < H', fontsize=20)\n",
    "plt.show()"
   ]
  },
  {
   "cell_type": "code",
   "execution_count": null,
   "metadata": {
    "collapsed": true
   },
   "outputs": [],
   "source": []
  },
  {
   "cell_type": "code",
   "execution_count": null,
   "metadata": {
    "collapsed": true
   },
   "outputs": [],
   "source": []
  },
  {
   "cell_type": "code",
   "execution_count": null,
   "metadata": {
    "collapsed": true
   },
   "outputs": [],
   "source": []
  },
  {
   "cell_type": "code",
   "execution_count": null,
   "metadata": {
    "collapsed": true
   },
   "outputs": [],
   "source": []
  },
  {
   "cell_type": "code",
   "execution_count": null,
   "metadata": {
    "collapsed": true
   },
   "outputs": [],
   "source": []
  },
  {
   "cell_type": "code",
   "execution_count": 4,
   "metadata": {
    "collapsed": true
   },
   "outputs": [],
   "source": [
    "import QuantLib as ql # version 1.5\n",
    "import matplotlib.pyplot as plt\n",
    "%matplotlib inline"
   ]
  },
  {
   "cell_type": "code",
   "execution_count": 182,
   "metadata": {
    "collapsed": true
   },
   "outputs": [],
   "source": [
    "# option data\n",
    "maturity_date = ql.Date(15, 1, 2016)\n",
    "spot_price = 127.62\n",
    "strike_price = 130\n",
    "volatility = 0.20 # the historical vols for a year\n",
    "dividend_rate =  0.0163\n",
    "option_type = ql.Option.Call\n",
    "\n",
    "risk_free_rate = 0.001\n",
    "day_count = ql.Actual365Fixed()\n",
    "calendar = ql.UnitedStates()\n",
    "\n",
    "calculation_date = ql.Date(8, 5, 2015)\n",
    "ql.Settings.instance().evaluationDate = calculation_date"
   ]
  },
  {
   "cell_type": "code",
   "execution_count": 189,
   "metadata": {
    "collapsed": true
   },
   "outputs": [],
   "source": [
    "# construct the European Option\n",
    "payoff = ql.PlainVanillaPayoff(option_type, strike_price)\n",
    "exercise = ql.EuropeanExercise(maturity_date)\n",
    "european_option1 = ql.VanillaOption(payoff, exercise)"
   ]
  },
  {
   "cell_type": "code",
   "execution_count": 18,
   "metadata": {},
   "outputs": [
    {
     "name": "stdout",
     "output_type": "stream",
     "text": [
      "Enter Start date in the format m/d/y: 05/05/2001\n"
     ]
    }
   ],
   "source": [
    "from datetime import datetime\n",
    "\n",
    "d= datetime.strptime(raw_input('Enter Start date in the format m/d/y: '), '%m/%d/%Y')\n",
    "quantDate = ql.Date(d.day, d.month, d.year)"
   ]
  },
  {
   "cell_type": "code",
   "execution_count": 173,
   "metadata": {},
   "outputs": [
    {
     "data": {
      "text/plain": [
       "Date(1,6,2015)"
      ]
     },
     "execution_count": 173,
     "metadata": {},
     "output_type": "execute_result"
    }
   ],
   "source": [
    "quantDate"
   ]
  },
  {
   "cell_type": "code",
   "execution_count": 174,
   "metadata": {
    "collapsed": true
   },
   "outputs": [],
   "source": [
    "d = datetime.strptime('2011-03-07','%Y-%m-%d')\n",
    "quantDate = ql.Date(d.day, d.month, d.year)"
   ]
  },
  {
   "cell_type": "code",
   "execution_count": 175,
   "metadata": {},
   "outputs": [
    {
     "data": {
      "text/plain": [
       "Date(7,3,2011)"
      ]
     },
     "execution_count": 175,
     "metadata": {},
     "output_type": "execute_result"
    }
   ],
   "source": [
    "quantDate"
   ]
  },
  {
   "cell_type": "code",
   "execution_count": 191,
   "metadata": {
    "collapsed": true
   },
   "outputs": [],
   "source": [
    "spot_handle = ql.QuoteHandle(ql.SimpleQuote(spot_price))\n",
    "flat_ts = ql.YieldTermStructureHandle(ql.FlatForward(quantDate, risk_free_rate, day_count))\n",
    "dividend_yield = ql.YieldTermStructureHandle(ql.FlatForward(calculation_date, dividend_rate, day_count))\n",
    "flat_vol_ts = ql.BlackVolTermStructureHandle(ql.BlackConstantVol(calculation_date, calendar, volatility, day_count))\n",
    "bsm_process = ql.BlackProcess(spot_handle,flat_ts,flat_vol_ts)"
   ]
  },
  {
   "cell_type": "code",
   "execution_count": 193,
   "metadata": {},
   "outputs": [
    {
     "name": "stdout",
     "output_type": "stream",
     "text": [
      "The theoretical price is  7.35658724222\n"
     ]
    }
   ],
   "source": [
    "european_option1.setPricingEngine(ql.AnalyticEuropeanEngine(bsm_process))\n",
    "bs_price = european_option1.NPV()\n",
    "print \"The theoretical price is \", bs_price"
   ]
  },
  {
   "cell_type": "code",
   "execution_count": 199,
   "metadata": {
    "collapsed": true
   },
   "outputs": [],
   "source": [
    "def binomial_price(bsm_process,european_option, steps):\n",
    "    binomial_engine = ql.BinomialVanillaEngine(bsm_process, \"crr\", steps)\n",
    "    european_option.setPricingEngine(binomial_engine)\n",
    "    return european_option.NPV()\n",
    "\n",
    "steps = range(2, 100, 1)\n",
    "prices = [binomial_price(bsm_process,european_option1, step) for step in steps]"
   ]
  },
  {
   "cell_type": "code",
   "execution_count": 200,
   "metadata": {},
   "outputs": [
    {
     "data": {
      "text/plain": [
       "19.16467005449882"
      ]
     },
     "execution_count": 200,
     "metadata": {},
     "output_type": "execute_result"
    }
   ],
   "source": [
    "prices[0]"
   ]
  },
  {
   "cell_type": "code",
   "execution_count": 201,
   "metadata": {},
   "outputs": [
    {
     "data": {
      "text/plain": [
       "<matplotlib.legend.Legend at 0x7f02bcf83910>"
      ]
     },
     "execution_count": 201,
     "metadata": {},
     "output_type": "execute_result"
    },
    {
     "data": {
      "image/png": "[encoded data removed]",
      "text/plain": [
       "<matplotlib.figure.Figure at 0x7f02bcbd1890>"
      ]
     },
     "metadata": {},
     "output_type": "display_data"
    }
   ],
   "source": [
    "plt.plot(steps, prices, label=\"Binomial Tree Price\", lw=2, alpha=0.6)\n",
    "plt.plot([0,100],[bs_price, bs_price], \"r--\", label=\"BSM Price\", lw=2, alpha=0.6)\n",
    "plt.xlabel(\"Steps\")\n",
    "plt.ylabel(\"Price\")\n",
    "plt.title(\"Binomial Tree Price For Varying Steps\")\n",
    "plt.legend()"
   ]
  },
  {
   "cell_type": "markdown",
   "metadata": {},
   "source": [
    "# Monte carlo"
   ]
  },
  {
   "cell_type": "code",
   "execution_count": 202,
   "metadata": {
    "collapsed": true
   },
   "outputs": [],
   "source": [
    "engine = ql.MCEuropeanEngine(bsm_process, \"PseudoRandom\",timeSteps=20,requiredSamples=250000)\n",
    "european_option.setPricingEngine(engine)"
   ]
  },
  {
   "cell_type": "code",
   "execution_count": 203,
   "metadata": {},
   "outputs": [
    {
     "data": {
      "text/plain": [
       "21.227467484701904"
      ]
     },
     "execution_count": 203,
     "metadata": {},
     "output_type": "execute_result"
    }
   ],
   "source": [
    "european_option.NPV()"
   ]
  },
  {
   "cell_type": "code",
   "execution_count": 26,
   "metadata": {},
   "outputs": [
    {
     "ename": "RuntimeError",
     "evalue": "delta not provided",
     "output_type": "error",
     "traceback": [
      "\u001b[0;31m---------------------------------------------------------------------------\u001b[0m",
      "\u001b[0;31mRuntimeError\u001b[0m                              Traceback (most recent call last)",
      "\u001b[0;32m<ipython-input-26-2d3f6b5b7424>\u001b[0m in \u001b[0;36m<module>\u001b[0;34m()\u001b[0m\n\u001b[0;32m----> 1\u001b[0;31m \u001b[0;32mprint\u001b[0m \u001b[0meuropean_option\u001b[0m\u001b[0;34m.\u001b[0m\u001b[0mdelta\u001b[0m\u001b[0;34m(\u001b[0m\u001b[0;34m)\u001b[0m\u001b[0;34m\u001b[0m\u001b[0m\n\u001b[0m\u001b[1;32m      2\u001b[0m \u001b[0;32mprint\u001b[0m \u001b[0meuropean_option\u001b[0m\u001b[0;34m.\u001b[0m\u001b[0mgamma\u001b[0m\u001b[0;34m(\u001b[0m\u001b[0;34m)\u001b[0m\u001b[0;34m\u001b[0m\u001b[0m\n\u001b[1;32m      3\u001b[0m \u001b[0;32mprint\u001b[0m \u001b[0meuropean_option\u001b[0m\u001b[0;34m.\u001b[0m\u001b[0mvega\u001b[0m\u001b[0;34m(\u001b[0m\u001b[0;34m)\u001b[0m\u001b[0;34m\u001b[0m\u001b[0m\n",
      "\u001b[0;32m/home/carel/anaconda2/lib/python2.7/site-packages/QuantLib/QuantLib.pyc\u001b[0m in \u001b[0;36mdelta\u001b[0;34m(self)\u001b[0m\n\u001b[1;32m  10578\u001b[0m \u001b[0;34m\u001b[0m\u001b[0m\n\u001b[1;32m  10579\u001b[0m     \u001b[0;32mdef\u001b[0m \u001b[0mdelta\u001b[0m\u001b[0;34m(\u001b[0m\u001b[0mself\u001b[0m\u001b[0;34m)\u001b[0m\u001b[0;34m:\u001b[0m\u001b[0;34m\u001b[0m\u001b[0m\n\u001b[0;32m> 10580\u001b[0;31m         \u001b[0;32mreturn\u001b[0m \u001b[0m_QuantLib\u001b[0m\u001b[0;34m.\u001b[0m\u001b[0mVanillaOption_delta\u001b[0m\u001b[0;34m(\u001b[0m\u001b[0mself\u001b[0m\u001b[0;34m)\u001b[0m\u001b[0;34m\u001b[0m\u001b[0m\n\u001b[0m\u001b[1;32m  10581\u001b[0m \u001b[0;34m\u001b[0m\u001b[0m\n\u001b[1;32m  10582\u001b[0m     \u001b[0;32mdef\u001b[0m \u001b[0mgamma\u001b[0m\u001b[0;34m(\u001b[0m\u001b[0mself\u001b[0m\u001b[0;34m)\u001b[0m\u001b[0;34m:\u001b[0m\u001b[0;34m\u001b[0m\u001b[0m\n",
      "\u001b[0;31mRuntimeError\u001b[0m: delta not provided"
     ]
    }
   ],
   "source": [
    "print european_option.delta()\n",
    "print european_option.gamma()\n",
    "print european_option.vega()"
   ]
  },
  {
   "cell_type": "markdown",
   "metadata": {},
   "source": [
    "# Finite Difference"
   ]
  },
  {
   "cell_type": "code",
   "execution_count": 27,
   "metadata": {
    "collapsed": true
   },
   "outputs": [],
   "source": [
    "engine = ql.FDEuropeanEngine(bsm_process,801,801)\n",
    "european_option.setPricingEngine(engine)"
   ]
  },
  {
   "cell_type": "code",
   "execution_count": 28,
   "metadata": {},
   "outputs": [
    {
     "data": {
      "text/plain": [
       "21.207637703374132"
      ]
     },
     "execution_count": 28,
     "metadata": {},
     "output_type": "execute_result"
    }
   ],
   "source": [
    "european_option.NPV()"
   ]
  },
  {
   "cell_type": "code",
   "execution_count": 29,
   "metadata": {},
   "outputs": [
    {
     "name": "stdout",
     "output_type": "stream",
     "text": [
      "0.568118759895\n",
      "0.00694180925078\n"
     ]
    }
   ],
   "source": [
    "print european_option.delta()\n",
    "print european_option.gamma()"
   ]
  },
  {
   "cell_type": "markdown",
   "metadata": {},
   "source": [
    "# Creating a barrier"
   ]
  },
  {
   "cell_type": "code",
   "execution_count": 30,
   "metadata": {
    "collapsed": true
   },
   "outputs": [],
   "source": [
    "today= ql.Date(29, 5, 2006)\n",
    "ql.Settings.instance().evaluationDate = today"
   ]
  },
  {
   "cell_type": "code",
   "execution_count": 31,
   "metadata": {
    "collapsed": true
   },
   "outputs": [],
   "source": [
    "#the option to replicate\n",
    "barrierType = ql.Barrier.DownOut\n",
    "barrier = 70.0\n",
    "rebate = 0.0\n",
    "option_type1 = ql.Option.Put\n",
    "underlyingValue = 100.0"
   ]
  },
  {
   "cell_type": "code",
   "execution_count": 32,
   "metadata": {
    "collapsed": true
   },
   "outputs": [],
   "source": [
    "strike = 100.0"
   ]
  },
  {
   "cell_type": "code",
   "execution_count": 33,
   "metadata": {
    "collapsed": true
   },
   "outputs": [],
   "source": [
    "spot_handle = ql.QuoteHandle(ql.SimpleQuote(underlyingValue))\n",
    "risk_free_rate = ql.QuoteHandle(ql.SimpleQuote(0.04))\n",
    "vol = ql.QuoteHandle(ql.SimpleQuote(0.2))"
   ]
  },
  {
   "cell_type": "code",
   "execution_count": 34,
   "metadata": {
    "collapsed": true
   },
   "outputs": [],
   "source": [
    "maturity = today + 1*ql.Years"
   ]
  },
  {
   "cell_type": "code",
   "execution_count": 35,
   "metadata": {
    "collapsed": true
   },
   "outputs": [],
   "source": [
    "# bootstrap the yield/vol curves\n",
    "day_count = ql.Actual365Fixed()\n",
    "flat_ts = ql.YieldTermStructureHandle(ql.FlatForward(0, ql.NullCalendar(),risk_free_rate , day_count))\n",
    "flat_vol_ts = ql.BlackVolTermStructureHandle(ql.BlackConstantVol(0, ql.NullCalendar(), vol, day_count))"
   ]
  },
  {
   "cell_type": "code",
   "execution_count": 36,
   "metadata": {
    "collapsed": true
   },
   "outputs": [],
   "source": [
    "#instantiate the option\n",
    "payoff1 = ql.PlainVanillaPayoff(option_type1, strike)\n",
    "exercise1 = ql.EuropeanExercise(maturity)"
   ]
  },
  {
   "cell_type": "code",
   "execution_count": 71,
   "metadata": {
    "collapsed": true
   },
   "outputs": [],
   "source": [
    "bsp = ql.BlackProcess(spot_handle,flat_ts,flat_vol_ts)"
   ]
  },
  {
   "cell_type": "code",
   "execution_count": 72,
   "metadata": {
    "collapsed": true
   },
   "outputs": [],
   "source": [
    "barrier_engine = ql.FdBlackScholesBarrierEngine(bsp)"
   ]
  },
  {
   "cell_type": "code",
   "execution_count": 73,
   "metadata": {
    "collapsed": true
   },
   "outputs": [],
   "source": [
    "europeanEngine = ql.AnalyticEuropeanEngine(bsp)"
   ]
  },
  {
   "cell_type": "code",
   "execution_count": 74,
   "metadata": {
    "collapsed": true
   },
   "outputs": [],
   "source": [
    "van_option = ql.VanillaOption(payoff1, exercise1)"
   ]
  },
  {
   "cell_type": "code",
   "execution_count": 75,
   "metadata": {},
   "outputs": [
    {
     "name": "stdout",
     "output_type": "stream",
     "text": [
      "The theoretical price is  0.723111928367\n"
     ]
    }
   ],
   "source": [
    "van_option.setPricingEngine(ql.AnalyticEuropeanEngine(bsp))\n",
    "bs_price = van_option.NPV()\n",
    "print \"The theoretical price is \", bs_price"
   ]
  },
  {
   "cell_type": "code",
   "execution_count": 99,
   "metadata": {},
   "outputs": [
    {
     "name": "stdout",
     "output_type": "stream",
     "text": [
      "Please enter the acronyms of the barrier engine type (AB-Analytical Barrier,BB-Binomial Barrier,FD-Finite Difference Barrier,MC-Monte Carlo) ab\n",
      " This input is incorrect,please enter the acronyms of the barrier engine type (AB-Analytical Barrier,BB-Binomial Barrier,FD-Finite Difference Barrier,MC-Monte Carlo)\n",
      "Please enter the acronyms of the barrier engine type (AB-Analytical Barrier,BB-Binomial Barrier,FD-Finite Difference Barrier,MC-Monte Carlo) AB\n"
     ]
    }
   ],
   "source": [
    "message3 =\" This input is incorrect,please enter the acronyms of the barrier engine type (AB-Analytical Barrier,BB-Binomial Barrier,FD-Finite Difference Barrier,MC-Monte Carlo)\"\n",
    "error3 = True\n",
    "while error3:\n",
    "    engine = raw_input(\"Please enter the acronyms of the barrier engine type (AB-Analytical Barrier,BB-Binomial Barrier,FD-Finite Difference Barrier,MC-Monte Carlo) \")\n",
    "    if engine == 'AB'or engine == 'BB' or engine == 'FD' or engine == 'MC':\n",
    "        error3 = False\n",
    "    else:\n",
    "        print message3"
   ]
  },
  {
   "cell_type": "code",
   "execution_count": 100,
   "metadata": {},
   "outputs": [
    {
     "data": {
      "text/plain": [
       "'AB'"
      ]
     },
     "execution_count": 100,
     "metadata": {},
     "output_type": "execute_result"
    }
   ],
   "source": [
    "engine"
   ]
  },
  {
   "cell_type": "code",
   "execution_count": 76,
   "metadata": {
    "collapsed": true
   },
   "outputs": [],
   "source": [
    "referenceOption = ql.BarrierOption(barrierType, barrier, rebate,payoff1, exercise1)"
   ]
  },
  {
   "cell_type": "code",
   "execution_count": 77,
   "metadata": {
    "collapsed": true
   },
   "outputs": [],
   "source": [
    "referenceOption.setPricingEngine(barrier_engine)"
   ]
  },
  {
   "cell_type": "code",
   "execution_count": 78,
   "metadata": {
    "collapsed": true
   },
   "outputs": [],
   "source": [
    "Value = referenceOption.NPV()"
   ]
  },
  {
   "cell_type": "code",
   "execution_count": 79,
   "metadata": {},
   "outputs": [
    {
     "data": {
      "text/plain": [
       "0.7230488197758365"
      ]
     },
     "execution_count": 79,
     "metadata": {},
     "output_type": "execute_result"
    }
   ],
   "source": [
    "Value"
   ]
  },
  {
   "cell_type": "code",
   "execution_count": 64,
   "metadata": {
    "collapsed": true
   },
   "outputs": [],
   "source": [
    "#USing analytical Barrier\n",
    "barrier_engine = ql.AnalyticBarrierEngine(bsp)\n"
   ]
  },
  {
   "cell_type": "code",
   "execution_count": 65,
   "metadata": {
    "collapsed": true
   },
   "outputs": [],
   "source": [
    "referenceOption.setPricingEngine(barrier_engine)"
   ]
  },
  {
   "cell_type": "code",
   "execution_count": 66,
   "metadata": {},
   "outputs": [
    {
     "data": {
      "text/plain": [
       "0.7231119283668335"
      ]
     },
     "execution_count": 66,
     "metadata": {},
     "output_type": "execute_result"
    }
   ],
   "source": [
    "referenceOption.NPV()"
   ]
  },
  {
   "cell_type": "code",
   "execution_count": 58,
   "metadata": {
    "collapsed": true
   },
   "outputs": [],
   "source": [
    "#Using Binoomial Barrier\n",
    "barrier_engine = ql.BinomialBarrierEngine(bsp,'crr',200)"
   ]
  },
  {
   "cell_type": "code",
   "execution_count": 59,
   "metadata": {
    "collapsed": true
   },
   "outputs": [],
   "source": [
    "referenceOption.setPricingEngine(barrier_engine)"
   ]
  },
  {
   "cell_type": "code",
   "execution_count": 60,
   "metadata": {},
   "outputs": [
    {
     "data": {
      "text/plain": [
       "0.7222086080314538"
      ]
     },
     "execution_count": 60,
     "metadata": {},
     "output_type": "execute_result"
    }
   ],
   "source": [
    "referenceOption.NPV()"
   ]
  },
  {
   "cell_type": "code",
   "execution_count": 52,
   "metadata": {
    "collapsed": true
   },
   "outputs": [],
   "source": [
    "#Monte Carlo Barrier\n",
    "barrier_engine = ql.MCBarrierEngine(bsp, \"PseudoRandom\",timeSteps=20,requiredSamples=250000)"
   ]
  },
  {
   "cell_type": "code",
   "execution_count": 53,
   "metadata": {
    "collapsed": true
   },
   "outputs": [],
   "source": [
    "referenceOption.setPricingEngine(barrier_engine)"
   ]
  },
  {
   "cell_type": "code",
   "execution_count": 54,
   "metadata": {},
   "outputs": [
    {
     "data": {
      "text/plain": [
       "0.7227578941632726"
      ]
     },
     "execution_count": 54,
     "metadata": {},
     "output_type": "execute_result"
    }
   ],
   "source": [
    "referenceOption.NPV()"
   ]
  },
  {
   "cell_type": "code",
   "execution_count": null,
   "metadata": {
    "collapsed": true
   },
   "outputs": [],
   "source": []
  },
  {
   "cell_type": "code",
   "execution_count": 80,
   "metadata": {},
   "outputs": [
    {
     "data": {
      "text/plain": [
       "-0.4961168724759953"
      ]
     },
     "execution_count": 80,
     "metadata": {},
     "output_type": "execute_result"
    }
   ],
   "source": [
    " referenceOption.delta()"
   ]
  },
  {
   "cell_type": "code",
   "execution_count": 81,
   "metadata": {},
   "outputs": [
    {
     "data": {
      "text/plain": [
       "0.2215949268455051"
      ]
     },
     "execution_count": 81,
     "metadata": {},
     "output_type": "execute_result"
    }
   ],
   "source": [
    "referenceOption.gamma()"
   ]
  },
  {
   "cell_type": "code",
   "execution_count": 82,
   "metadata": {},
   "outputs": [
    {
     "data": {
      "text/plain": [
       "-48.35998599088586"
      ]
     },
     "execution_count": 82,
     "metadata": {},
     "output_type": "execute_result"
    }
   ],
   "source": [
    "referenceOption.theta()"
   ]
  },
  {
   "cell_type": "code",
   "execution_count": null,
   "metadata": {
    "collapsed": true
   },
   "outputs": [],
   "source": [
    "                                                                                                "
   ]
  },
  {
   "cell_type": "markdown",
   "metadata": {},
   "source": [
    "## Barrier functions"
   ]
  },
  {
   "cell_type": "code",
   "execution_count": null,
   "metadata": {
    "collapsed": true
   },
   "outputs": [],
   "source": []
  },
  {
   "cell_type": "code",
   "execution_count": null,
   "metadata": {
    "collapsed": true
   },
   "outputs": [],
   "source": []
  },
  {
   "cell_type": "code",
   "execution_count": 19,
   "metadata": {
    "collapsed": true
   },
   "outputs": [],
   "source": [
    "def BarrierCalculator(runDate,barrierType,barrier_value,rebate,option,spot,strike,risk_free_rate\n",
    "                      ,vol,maturity, dividend_rate,engine):\n",
    "    # set valuation date \n",
    "    ql.Settings.instance().evaluationDate = runDate\n",
    "    \n",
    "    # Set the Barrier type\n",
    "    if barrierType == \"UpIn\":\n",
    "        barrier = ql.Barrier.UpIn\n",
    "    elif barrierType == \"UpOut\":\n",
    "        barrier = ql.Barrier.UpOut\n",
    "    elif barrierType == \"DownIn\":\n",
    "        barrier = ql.Barrier.DownIn\n",
    "    else:\n",
    "        barrier = ql.Barrier.DownOut\n",
    "    \n",
    "    # Set the Option type\n",
    "    if option == 'c':\n",
    "        option_type = ql.Option.Call\n",
    "    else:\n",
    "        option_type = ql.Option.Put\n",
    "    # Handle values\n",
    "    spot = ql.QuoteHandle(ql.SimpleQuote(spot))\n",
    "    risk_free_rate = ql.QuoteHandle(ql.SimpleQuote(risk_free_rate))\n",
    "    vol = ql.QuoteHandle(ql.SimpleQuote(vol))\n",
    "    # Set calender to South Africa\n",
    "    calendar = ql.SouthAfrica()\n",
    "    \n",
    "    # construct the European Option\n",
    "    payoff = ql.PlainVanillaPayoff(option_type, strike)\n",
    "    exercise = ql.EuropeanExercise(maturity)\n",
    "    european_option = ql.VanillaOption(payoff, exercise)\n",
    "    \n",
    "    # bootstrap the yield/vol curves\n",
    "    day_count = ql.Actual365Fixed()\n",
    "    flat_ts = ql.YieldTermStructureHandle(ql.FlatForward(runDate,risk_free_rate, day_count))\n",
    "    flat_vol_ts = ql.BlackVolTermStructureHandle(ql.BlackConstantVol(runDate, calendar, vol, day_count))\n",
    "    dividend_yield = ql.YieldTermStructureHandle(ql.FlatForward(runDate,dividend_rate, day_count))\n",
    "    \n",
    "    # Black Scholes model\n",
    "    bsm = ql.GeneralizedBlackScholesProcess(spot,dividend_yield,flat_ts,flat_vol_ts)\n",
    "    \n",
    "    # Vanilla Option\n",
    "    van_option = ql.VanillaOption(payoff, exercise)\n",
    "    van_option.setPricingEngine(ql.AnalyticEuropeanEngine(bsm))\n",
    "    \n",
    "    # barrier Option\n",
    "    Barrier_option = ql.BarrierOption(barrier, barrier_value, rebate,payoff, exercise)\n",
    "    \n",
    "    # Barrier engine\n",
    "    if engine == 'AB':\n",
    "        barrier_engine = ql.AnalyticBarrierEngine(bsm)\n",
    "        Barrier_option.setPricingEngine(barrier_engine)\n",
    "    elif engine == 'BB':\n",
    "        barrier_engine = ql.BinomialBarrierEngine(bsm,'crr',200)\n",
    "        Barrier_option.setPricingEngine(barrier_engine)\n",
    "    elif engine == 'FD':\n",
    "        barrier_engine = ql.FdBlackScholesBarrierEngine(bsm,801,801)\n",
    "        Barrier_option.setPricingEngine(barrier_engine)\n",
    "    else:\n",
    "        barrier_engine = ql.MCBarrierEngine(bsm, \"PseudoRandom\",timeSteps=20,requiredSamples=250000)\n",
    "        Barrier_option.setPricingEngine(barrier_engine)\n",
    "    return Barrier_option\n",
    "    "
   ]
  },
  {
   "cell_type": "code",
   "execution_count": 65,
   "metadata": {},
   "outputs": [],
   "source": [
    "# Test Function\n",
    "runDate= ql.Date(18, 7, 2018)\n",
    "ql.Settings.instance().evaluationDate = runDate\n",
    "\n",
    "BarrierType = 'UpOut'\n",
    "barrier = 13063.96\n",
    "rebate = 0.0\n",
    "option_type = 'p'\n",
    "underlyingValue = 11120.79\n",
    "strike = 11965.12\n",
    "risk_free_rate = 0.0693\n",
    "vol = 0.1817\n",
    "maturity = ql.Date(17, 8, 2018)\n",
    "dividend_rate = 0.0278\n",
    "engine = 'FD'"
   ]
  },
  {
   "cell_type": "code",
   "execution_count": 66,
   "metadata": {},
   "outputs": [],
   "source": [
    "cal = BarrierCalculator(runDate,BarrierType,barrier,rebate,option_type,underlyingValue,strike,risk_free_rate,vol,maturity,dividend_rate,engine)"
   ]
  },
  {
   "cell_type": "code",
   "execution_count": 67,
   "metadata": {},
   "outputs": [
    {
     "data": {
      "text/plain": [
       "826.7951712863506"
      ]
     },
     "execution_count": 67,
     "metadata": {},
     "output_type": "execute_result"
    }
   ],
   "source": [
    "cal.NPV()"
   ]
  },
  {
   "cell_type": "code",
   "execution_count": 68,
   "metadata": {},
   "outputs": [
    {
     "data": {
      "text/plain": [
       "-0.9033920342119588"
      ]
     },
     "execution_count": 68,
     "metadata": {},
     "output_type": "execute_result"
    }
   ],
   "source": [
    "cal.delta()"
   ]
  },
  {
   "cell_type": "code",
   "execution_count": 69,
   "metadata": {},
   "outputs": [
    {
     "data": {
      "text/plain": [
       "0.0002900490334680182"
      ]
     },
     "execution_count": 69,
     "metadata": {},
     "output_type": "execute_result"
    }
   ],
   "source": [
    "cal.gamma()"
   ]
  },
  {
   "cell_type": "code",
   "execution_count": 70,
   "metadata": {},
   "outputs": [
    {
     "data": {
      "text/plain": [
       "-112.12619955100743"
      ]
     },
     "execution_count": 70,
     "metadata": {},
     "output_type": "execute_result"
    }
   ],
   "source": [
    "cal.theta()"
   ]
  },
  {
   "cell_type": "code",
   "execution_count": 71,
   "metadata": {},
   "outputs": [
    {
     "data": {
      "text/plain": [
       "False"
      ]
     },
     "execution_count": 71,
     "metadata": {},
     "output_type": "execute_result"
    }
   ],
   "source": [
    "cal.isExpired()"
   ]
  },
  {
   "cell_type": "code",
   "execution_count": null,
   "metadata": {
    "collapsed": true
   },
   "outputs": [],
   "source": []
  },
  {
   "cell_type": "markdown",
   "metadata": {
    "collapsed": true
   },
   "source": [
    "## Barrier function that takes no arguments, prompts the user to enter data and it returns the barrier option "
   ]
  },
  {
   "cell_type": "code",
   "execution_count": 23,
   "metadata": {
    "collapsed": true
   },
   "outputs": [],
   "source": [
    "def BarrierOptionCalculator():\n",
    "    # Get data from user \n",
    "    ## Get valuation Date\n",
    "    d = datetime.strptime(raw_input('Enter valuation date in the format m/d/y: '), '%m/%d/%Y')\n",
    "    runDate = ql.Date(d.day, d.month, d.year)\n",
    "    \n",
    "    ## Enter Barrier Type\n",
    "    message1 =\" This input is incorrect,please enter Barrier Type (UpIn,UpOut,DownIn,DownOut)\"\n",
    "    error1 = True\n",
    "    while error1:\n",
    "        barrierType = raw_input(\"Please enter Barrier Type (UpIn,UpOut,DownIn,DownOut): \")\n",
    "        if barrierType == 'UpIn'or barrierType == 'UpOut' or barrierType == 'DownIn' or barrierType == 'DownOut':\n",
    "            error1 = False\n",
    "        else:\n",
    "            print message1\n",
    "    \n",
    "    ## Enter the barrier\n",
    "    barrier_value = input(\"Please enter the barrier level: \" )\n",
    "    #barrier_value = float(barrier_value)\n",
    "    \n",
    "    ## Enter rebate\n",
    "    rebate = input(\"How high is the rebate you receive if you get knocked out?- \")\n",
    "    #rebate = float(rebate)\n",
    "    \n",
    "    ## Enter option type\n",
    "    error2 = True\n",
    "    message2 = \"This input is incorrect. Please enter p for put or c for call\"\n",
    "    while error2:\n",
    "        option = raw_input(\"Do you want to price a put(p) or a call(c) option? \" )\n",
    "        if option == 'c' or option == 'p':\n",
    "            error2 = False\n",
    "        else:\n",
    "            print message2 \n",
    "    \n",
    "    ## Enter the spot Price\n",
    "    spot =input(\"Please enter the current Stock price (spot price): \")\n",
    "    #spot = float(spot)\n",
    "    \n",
    "    ## Enter the strike value\n",
    "    strike = input(\"Please enter the strike price of the option: \")\n",
    "    #strike = float(strike)\n",
    "    \n",
    "    ## Enter the risk free rate\n",
    "    risk_free_rate = input(\"Please enter the risk free rate: \")\n",
    "    \n",
    "    ## Enter the volility\n",
    "    vol = input(\"Please enter the volatility of the underlying asset: \")\n",
    "    \n",
    "    ## Enter the maturity date\n",
    "    mat = datetime.strptime(raw_input('Enter maturity date in the format m/d/y: '), '%m/%d/%Y')\n",
    "    maturity = ql.Date(mat.day, mat.month, mat.year)\n",
    "    \n",
    "    ## Enter the dividends rate\n",
    "    dividend_rate = input(\"Please enter the projected dividend rate: \")\n",
    "    \n",
    "    ## Enter the engine type\n",
    "    message3 =\" This input is incorrect,please enter the acronyms of the barrier engine type (AB-Analytical Barrier,BB-Binomial Barrier,FD-Finite Difference Barrier,MC-Monte Carlo)\"\n",
    "    error3 = True\n",
    "    while error3:\n",
    "        engine = raw_input(\"Please enter the acronyms of the barrier engine type (AB-Analytical Barrier,BB-Binomial Barrier,FD-Finite Difference Barrier,MC-Monte Carlo) \")\n",
    "        if engine == 'AB'or engine == 'BB' or engine == 'FD' or engine == 'MC':\n",
    "            error3 = False\n",
    "        else:\n",
    "            print message3\n",
    "    \n",
    "    # set valuation date \n",
    "    ql.Settings.instance().evaluationDate = runDate\n",
    "    \n",
    "    # Set the Barrier type\n",
    "    if barrierType == \"UpIn\":\n",
    "        barrier = ql.Barrier.UpIn\n",
    "    elif barrierType == \"UpOut\":\n",
    "        barrier = ql.Barrier.UpOut\n",
    "    elif barrierType == \"DownIn\":\n",
    "        barrier = ql.Barrier.DownIn\n",
    "    else:\n",
    "        barrier = ql.Barrier.DownOut\n",
    "    \n",
    "    # Set the Option type\n",
    "    if option == 'c':\n",
    "        option_type = ql.Option.Call\n",
    "    else:\n",
    "        option_type = ql.Option.Put\n",
    "    # Handle values\n",
    "    spot = ql.QuoteHandle(ql.SimpleQuote(spot))\n",
    "    risk_free_rate = ql.QuoteHandle(ql.SimpleQuote(risk_free_rate))\n",
    "    vol = ql.QuoteHandle(ql.SimpleQuote(vol))\n",
    "    # Set calender to South Africa\n",
    "    calendar = ql.SouthAfrica()\n",
    "    \n",
    "    # construct the European Option\n",
    "    payoff = ql.PlainVanillaPayoff(option_type, strike)\n",
    "    exercise = ql.EuropeanExercise(maturity)\n",
    "    european_option = ql.VanillaOption(payoff, exercise)\n",
    "    \n",
    "    # bootstrap the yield/vol curves\n",
    "    day_count = ql.Actual365Fixed()\n",
    "    flat_ts = ql.YieldTermStructureHandle(ql.FlatForward(runDate,risk_free_rate, day_count))\n",
    "    flat_vol_ts = ql.BlackVolTermStructureHandle(ql.BlackConstantVol(runDate, calendar, vol, day_count))\n",
    "    dividend_yield = ql.YieldTermStructureHandle(ql.FlatForward(runDate,dividend_rate, day_count))\n",
    "    \n",
    "    # Black Scholes model\n",
    "    bsm = ql.GeneralizedBlackScholesProcess(spot,dividend_yield,flat_ts,flat_vol_ts)\n",
    "    \n",
    "    # Vanilla Option\n",
    "    van_option = ql.VanillaOption(payoff, exercise)\n",
    "    van_option.setPricingEngine(ql.AnalyticEuropeanEngine(bsm))\n",
    "    \n",
    "    # barrier Option\n",
    "    Barrier_option = ql.BarrierOption(barrier, barrier_value, rebate,payoff, exercise)\n",
    "    \n",
    "    # Barrier engine\n",
    "    if engine == 'AB':\n",
    "        barrier_engine = ql.AnalyticBarrierEngine(bsm)\n",
    "        Barrier_option.setPricingEngine(barrier_engine)\n",
    "    elif engine == 'BB':\n",
    "        barrier_engine = ql.BinomialBarrierEngine(bsm,'crr',200)\n",
    "        Barrier_option.setPricingEngine(barrier_engine)\n",
    "    elif engine == 'FD':\n",
    "        barrier_engine = ql.FdBlackScholesBarrierEngine(bsm,801,801)\n",
    "        Barrier_option.setPricingEngine(barrier_engine)\n",
    "    else:\n",
    "        barrier_engine = ql.MCBarrierEngine(bsm, \"PseudoRandom\",timeSteps=20,requiredSamples=250000)\n",
    "        Barrier_option.setPricingEngine(barrier_engine)\n",
    "    return Barrier_option"
   ]
  },
  {
   "cell_type": "code",
   "execution_count": 24,
   "metadata": {
    "collapsed": true
   },
   "outputs": [],
   "source": [
    "## Function Function should match the value of previous function"
   ]
  },
  {
   "cell_type": "code",
   "execution_count": 25,
   "metadata": {},
   "outputs": [
    {
     "name": "stdout",
     "output_type": "stream",
     "text": [
      "Enter valuation date in the format m/d/y: 07/18/2018\n",
      "Please enter Barrier Type (UpIn,UpOut,DownIn,DownOut): UpOut\n",
      "Please enter the barrier level: 13063.96\n",
      "How high is the rebate you receive if you get knocked out?- 0\n",
      "Do you want to price a put(p) or a call(c) option? p\n",
      "Please enter the current Stock price (spot price): 11120.79\n",
      "Please enter the strike price of the option: 11965.12\n",
      "Please enter the risk free rate: 0.0693\n",
      "Please enter the volatility of the underlying asset: 0.1817\n",
      "Enter maturity date in the format m/d/y: 8/17/2018\n",
      "Please enter the projected dividend rate: 0.0278\n",
      "Please enter the acronyms of the barrier engine type (AB-Analytical Barrier,BB-Binomial Barrier,FD-Finite Difference Barrier,MC-Monte Carlo) AB\n"
     ]
    }
   ],
   "source": [
    "test = BarrierOptionCalculator()"
   ]
  },
  {
   "cell_type": "code",
   "execution_count": 26,
   "metadata": {},
   "outputs": [
    {
     "data": {
      "text/plain": [
       "826.7942859369289"
      ]
     },
     "execution_count": 26,
     "metadata": {},
     "output_type": "execute_result"
    }
   ],
   "source": [
    "test.NPV()"
   ]
  },
  {
   "cell_type": "code",
   "execution_count": 72,
   "metadata": {},
   "outputs": [],
   "source": [
    "test.recalculate()"
   ]
  },
  {
   "cell_type": "code",
   "execution_count": null,
   "metadata": {
    "collapsed": true
   },
   "outputs": [],
   "source": [
    "def SetPricingEngine(BarrierOption,engine_type):\n",
    "    if engine == 'AB':\n",
    "        barrier_engine = ql.AnalyticBarrierEngine(bsm)\n",
    "        Barrier_option.setPricingEngine(barrier_engine)\n",
    "    elif engine == 'BB':\n",
    "        barrier_engine = ql.BinomialBarrierEngine(bsm,'crr',200)\n",
    "        Barrier_option.setPricingEngine(barrier_engine)\n",
    "    elif engine == 'FD':\n",
    "        barrier_engine = ql.FdBlackScholesBarrierEngine(bsm,801,801)\n",
    "        Barrier_option.setPricingEngine(barrier_engine)\n",
    "    else:\n",
    "        barrier_engine = ql.MCBarrierEngine(bsm, \"PseudoRandom\",timeSteps=20,requiredSamples=250000)\n",
    "        Barrier_option.setPricingEngine(barrier_engine)\n",
    "    return barrierOption"
   ]
  },
  {
   "cell_type": "code",
   "execution_count": null,
   "metadata": {
    "collapsed": true
   },
   "outputs": [],
   "source": []
  },
  {
   "cell_type": "code",
   "execution_count": null,
   "metadata": {
    "collapsed": true
   },
   "outputs": [],
   "source": []
  },
  {
   "cell_type": "code",
   "execution_count": null,
   "metadata": {
    "collapsed": true
   },
   "outputs": [],
   "source": []
  },
  {
   "cell_type": "code",
   "execution_count": null,
   "metadata": {
    "collapsed": true
   },
   "outputs": [],
   "source": []
  }
 ],
 "metadata": {
  "kernelspec": {
   "display_name": "Python 2",
   "language": "python",
   "name": "python2"
  },
  "language_info": {
   "codemirror_mode": {
    "name": "ipython",
    "version": 2
   },
   "file_extension": ".py",
   "mimetype": "text/x-python",
   "name": "python",
   "nbconvert_exporter": "python",
   "pygments_lexer": "ipython2",
   "version": "2.7.14"
  }
 },
 "nbformat": 4,
 "nbformat_minor": 2
}
